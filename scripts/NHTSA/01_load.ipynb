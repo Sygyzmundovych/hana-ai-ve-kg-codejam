{
 "cells": [
  {
   "cell_type": "markdown",
   "metadata": {},
   "source": [
    "## Check the setup and connect to the database"
   ]
  },
  {
   "cell_type": "code",
   "execution_count": 1,
   "metadata": {},
   "outputs": [
    {
     "name": "stdout",
     "output_type": "stream",
     "text": [
      "SAP HANA Client for Python: 2.23.25010300\n",
      "Connected to SAP HANA db version 4.00.000.00.1736867381 (fa/CE2024.40) \n",
      "at c5889dd5-e0f6-4930-8408-94d53ca61dbf.hna0.prod-us10.hanacloud.ondemand.com:443 as CODEJAMHANAML40\n",
      "Current time on the SAP HANA server: 2025-01-27 20:15:30.842000\n"
     ]
    }
   ],
   "source": [
    "%run \"../check_setup.ipynb\""
   ]
  },
  {
   "cell_type": "code",
   "execution_count": 2,
   "metadata": {},
   "outputs": [
    {
     "data": {
      "text/html": [
       "<div>\n",
       "<style scoped>\n",
       "    .dataframe tbody tr th:only-of-type {\n",
       "        vertical-align: middle;\n",
       "    }\n",
       "\n",
       "    .dataframe tbody tr th {\n",
       "        vertical-align: top;\n",
       "    }\n",
       "\n",
       "    .dataframe thead th {\n",
       "        text-align: right;\n",
       "    }\n",
       "</style>\n",
       "<table border=\"1\" class=\"dataframe\">\n",
       "  <thead>\n",
       "    <tr style=\"text-align: right;\">\n",
       "      <th></th>\n",
       "      <th>TABLE_NAME</th>\n",
       "    </tr>\n",
       "  </thead>\n",
       "  <tbody>\n",
       "    <tr>\n",
       "      <th>0</th>\n",
       "      <td>COMPLAINTS</td>\n",
       "    </tr>\n",
       "  </tbody>\n",
       "</table>\n",
       "</div>"
      ],
      "text/plain": [
       "   TABLE_NAME\n",
       "0  COMPLAINTS"
      ]
     },
     "execution_count": 2,
     "metadata": {},
     "output_type": "execute_result"
    }
   ],
   "source": [
    "myconn.get_tables(schema='NHTSA')"
   ]
  },
  {
   "cell_type": "code",
   "execution_count": 3,
   "metadata": {},
   "outputs": [],
   "source": [
    "import pandas as pd"
   ]
  },
  {
   "cell_type": "code",
   "execution_count": 4,
   "metadata": {},
   "outputs": [
    {
     "name": "stderr",
     "output_type": "stream",
     "text": [
      "/tmp/ipykernel_122742/1342734287.py:1: DtypeWarning: Columns (27,28,29,30,33,38,41,44) have mixed types. Specify dtype option on import or set low_memory=False.\n",
      "  import_df = pd.read_csv('https://static.nhtsa.gov/odi/ffdd/cmpl/COMPLAINTS_RECEIVED_2020-2024.zip', sep='\\t', header=None)\n"
     ]
    },
    {
     "data": {
      "text/plain": [
       "(418333, 49)"
      ]
     },
     "execution_count": 4,
     "metadata": {},
     "output_type": "execute_result"
    }
   ],
   "source": [
    "import_df = pd.read_csv('https://static.nhtsa.gov/odi/ffdd/cmpl/COMPLAINTS_RECEIVED_2020-2024.zip', sep='\\t', header=None)\n",
    "import_df.shape"
   ]
  },
  {
   "cell_type": "code",
   "execution_count": null,
   "metadata": {},
   "outputs": [],
   "source": [
    "import_df = pd.read_csv('https://static.nhtsa.gov/odi/ffdd/cmpl/COMPLAINTS_RECEIVED_2025-2025.zip', sep='\\t', header=None)\n",
    "import_df.shape"
   ]
  },
  {
   "cell_type": "code",
   "execution_count": 5,
   "metadata": {},
   "outputs": [],
   "source": [
    "import_df.rename(columns={\n",
    "    0: 'CMPLID',\n",
    "    1: 'ODINO',\n",
    "    2: 'MFR_NAME',\n",
    "    3: 'MAKETXT',\n",
    "    4: 'MODELTXT',\n",
    "    5: 'YEARTXT',\n",
    "    6: 'CRASH',\n",
    "    7: 'FAILDATE',\n",
    "    8: 'FIRE',\n",
    "    9: 'INJURED',\n",
    "    10: 'DEATHS',\n",
    "    11: 'COMPDESC',\n",
    "    12: 'CITY',\n",
    "    13: 'STATE',\n",
    "    14: 'VIN',\n",
    "    15: 'DATEA',\n",
    "    16: 'LDATE',\n",
    "    17: 'MILES',\n",
    "    18: 'OCCURENCES',\n",
    "    19: 'CDESCR',\n",
    "    20: 'CMPL_TYPE',\n",
    "    21: 'POLICE_RPT_YN',\n",
    "    22: 'PURCH_DT',\n",
    "    23: 'ORIG_OWNER_YN',\n",
    "    24: 'ANTI_BRAKES_YN',\n",
    "    25: 'CRUISE_CONT_YN',\n",
    "    26: 'NUM_CYLS',\n",
    "    27: 'DRIVE_TRAIN',\n",
    "    28: 'FUEL_SYS',\n",
    "    29: 'FUEL_TYPE',\n",
    "    30: 'TRANS_TYPE',\n",
    "    31: 'VEH_SPEED',\n",
    "    32: 'DOT',\n",
    "    33: 'TIRE_SIZE',\n",
    "    34: 'LOC_OF_TIRE',\n",
    "    35: 'TIRE_FAIL_TYPE',\n",
    "    36: 'ORIG_EQUIP_YN',\n",
    "    37: 'MANUF_DT',\n",
    "    38: 'SEAT_TYPE',\n",
    "    39: 'RESTRAINT_TYPE',\n",
    "    40: 'DEALER_NAME',\n",
    "    41: 'DEALER_TEL',\n",
    "    42: 'DEALER_CITY',\n",
    "    43: 'DEALER_STATE',\n",
    "    44: 'DEALER_ZIP',\n",
    "    45: 'PROD_TYPE',\n",
    "    46: 'REPAIRED_YN',\n",
    "    47: 'MEDICAL_ATTN',\n",
    "    48: 'VEHICLES_TOWED_YN'\n",
    "}, inplace=True)"
   ]
  },
  {
   "cell_type": "code",
   "execution_count": null,
   "metadata": {},
   "outputs": [],
   "source": [
    "# Combine them into a single DataFrame\n",
    "pd.DataFrame({\n",
    "    'Original Dtypes': import_df.dtypes,\n",
    "    'Converted Dtypes': import_df.convert_dtypes().dtypes\n",
    "})"
   ]
  },
  {
   "cell_type": "code",
   "execution_count": 6,
   "metadata": {},
   "outputs": [],
   "source": [
    "import_df=import_df.convert_dtypes()"
   ]
  },
  {
   "cell_type": "code",
   "execution_count": 15,
   "metadata": {},
   "outputs": [
    {
     "data": {
      "text/html": [
       "<div>\n",
       "<style scoped>\n",
       "    .dataframe tbody tr th:only-of-type {\n",
       "        vertical-align: middle;\n",
       "    }\n",
       "\n",
       "    .dataframe tbody tr th {\n",
       "        vertical-align: top;\n",
       "    }\n",
       "\n",
       "    .dataframe thead th {\n",
       "        text-align: right;\n",
       "    }\n",
       "</style>\n",
       "<table border=\"1\" class=\"dataframe\">\n",
       "  <thead>\n",
       "    <tr style=\"text-align: right;\">\n",
       "      <th></th>\n",
       "      <th>CMPLID</th>\n",
       "      <th>CDESCR_LEN</th>\n",
       "    </tr>\n",
       "  </thead>\n",
       "  <tbody>\n",
       "    <tr>\n",
       "      <th>261213</th>\n",
       "      <td>1894511</td>\n",
       "      <td>19506</td>\n",
       "    </tr>\n",
       "    <tr>\n",
       "      <th>285022</th>\n",
       "      <td>1918341</td>\n",
       "      <td>9370</td>\n",
       "    </tr>\n",
       "    <tr>\n",
       "      <th>298904</th>\n",
       "      <td>1932234</td>\n",
       "      <td>10075</td>\n",
       "    </tr>\n",
       "    <tr>\n",
       "      <th>300901</th>\n",
       "      <td>1934249</td>\n",
       "      <td>17330</td>\n",
       "    </tr>\n",
       "    <tr>\n",
       "      <th>330468</th>\n",
       "      <td>1963843</td>\n",
       "      <td>2196</td>\n",
       "    </tr>\n",
       "  </tbody>\n",
       "</table>\n",
       "</div>"
      ],
      "text/plain": [
       "         CMPLID  CDESCR_LEN\n",
       "261213  1894511       19506\n",
       "285022  1918341        9370\n",
       "298904  1932234       10075\n",
       "300901  1934249       17330\n",
       "330468  1963843        2196"
      ]
     },
     "execution_count": 15,
     "metadata": {},
     "output_type": "execute_result"
    }
   ],
   "source": [
    "import_df[import_df['CDESCR'].str.len() > 2048][['CMPLID']].assign(CDESCR_LEN=import_df['CDESCR'].str.len())"
   ]
  },
  {
   "cell_type": "code",
   "execution_count": 16,
   "metadata": {},
   "outputs": [
    {
     "data": {
      "text/html": [
       "<style type=\"text/css\">\n",
       "#T_2c857_row0_col0, #T_2c857_row1_col0, #T_2c857_row2_col0, #T_2c857_row3_col0, #T_2c857_row4_col0, #T_2c857_row5_col0, #T_2c857_row6_col0, #T_2c857_row7_col0, #T_2c857_row8_col0, #T_2c857_row9_col0, #T_2c857_row10_col0, #T_2c857_row11_col0, #T_2c857_row12_col0, #T_2c857_row13_col0, #T_2c857_row14_col0, #T_2c857_row15_col0, #T_2c857_row16_col0, #T_2c857_row17_col0, #T_2c857_row18_col0, #T_2c857_row19_col0, #T_2c857_row20_col0, #T_2c857_row21_col0, #T_2c857_row22_col0, #T_2c857_row23_col0, #T_2c857_row24_col0, #T_2c857_row25_col0, #T_2c857_row26_col0, #T_2c857_row27_col0, #T_2c857_row28_col0, #T_2c857_row29_col0, #T_2c857_row30_col0, #T_2c857_row31_col0, #T_2c857_row32_col0, #T_2c857_row33_col0, #T_2c857_row34_col0, #T_2c857_row35_col0, #T_2c857_row36_col0, #T_2c857_row37_col0, #T_2c857_row38_col0, #T_2c857_row39_col0, #T_2c857_row40_col0, #T_2c857_row41_col0, #T_2c857_row42_col0, #T_2c857_row43_col0, #T_2c857_row44_col0, #T_2c857_row45_col0, #T_2c857_row46_col0, #T_2c857_row47_col0, #T_2c857_row48_col0 {\n",
       "  text-align: left;\n",
       "}\n",
       "</style>\n",
       "<table id=\"T_2c857\">\n",
       "  <thead>\n",
       "    <tr>\n",
       "      <th class=\"blank level0\" >&nbsp;</th>\n",
       "      <th id=\"T_2c857_level0_col0\" class=\"col_heading level0 col0\" >0</th>\n",
       "    </tr>\n",
       "  </thead>\n",
       "  <tbody>\n",
       "    <tr>\n",
       "      <th id=\"T_2c857_level0_row0\" class=\"row_heading level0 row0\" >CMPLID</th>\n",
       "      <td id=\"T_2c857_row0_col0\" class=\"data row0 col0\" >1633298</td>\n",
       "    </tr>\n",
       "    <tr>\n",
       "      <th id=\"T_2c857_level0_row1\" class=\"row_heading level0 row1\" >ODINO</th>\n",
       "      <td id=\"T_2c857_row1_col0\" class=\"data row1 col0\" >11292384</td>\n",
       "    </tr>\n",
       "    <tr>\n",
       "      <th id=\"T_2c857_level0_row2\" class=\"row_heading level0 row2\" >MFR_NAME</th>\n",
       "      <td id=\"T_2c857_row2_col0\" class=\"data row2 col0\" >Honda (American Honda Motor Co.)</td>\n",
       "    </tr>\n",
       "    <tr>\n",
       "      <th id=\"T_2c857_level0_row3\" class=\"row_heading level0 row3\" >MAKETXT</th>\n",
       "      <td id=\"T_2c857_row3_col0\" class=\"data row3 col0\" >HONDA</td>\n",
       "    </tr>\n",
       "    <tr>\n",
       "      <th id=\"T_2c857_level0_row4\" class=\"row_heading level0 row4\" >MODELTXT</th>\n",
       "      <td id=\"T_2c857_row4_col0\" class=\"data row4 col0\" >ACCORD</td>\n",
       "    </tr>\n",
       "    <tr>\n",
       "      <th id=\"T_2c857_level0_row5\" class=\"row_heading level0 row5\" >YEARTXT</th>\n",
       "      <td id=\"T_2c857_row5_col0\" class=\"data row5 col0\" >2018</td>\n",
       "    </tr>\n",
       "    <tr>\n",
       "      <th id=\"T_2c857_level0_row6\" class=\"row_heading level0 row6\" >CRASH</th>\n",
       "      <td id=\"T_2c857_row6_col0\" class=\"data row6 col0\" >N</td>\n",
       "    </tr>\n",
       "    <tr>\n",
       "      <th id=\"T_2c857_level0_row7\" class=\"row_heading level0 row7\" >FAILDATE</th>\n",
       "      <td id=\"T_2c857_row7_col0\" class=\"data row7 col0\" >20191221</td>\n",
       "    </tr>\n",
       "    <tr>\n",
       "      <th id=\"T_2c857_level0_row8\" class=\"row_heading level0 row8\" >FIRE</th>\n",
       "      <td id=\"T_2c857_row8_col0\" class=\"data row8 col0\" >N</td>\n",
       "    </tr>\n",
       "    <tr>\n",
       "      <th id=\"T_2c857_level0_row9\" class=\"row_heading level0 row9\" >INJURED</th>\n",
       "      <td id=\"T_2c857_row9_col0\" class=\"data row9 col0\" >0</td>\n",
       "    </tr>\n",
       "    <tr>\n",
       "      <th id=\"T_2c857_level0_row10\" class=\"row_heading level0 row10\" >DEATHS</th>\n",
       "      <td id=\"T_2c857_row10_col0\" class=\"data row10 col0\" >0</td>\n",
       "    </tr>\n",
       "    <tr>\n",
       "      <th id=\"T_2c857_level0_row11\" class=\"row_heading level0 row11\" >COMPDESC</th>\n",
       "      <td id=\"T_2c857_row11_col0\" class=\"data row11 col0\" >SERVICE BRAKES</td>\n",
       "    </tr>\n",
       "    <tr>\n",
       "      <th id=\"T_2c857_level0_row12\" class=\"row_heading level0 row12\" >CITY</th>\n",
       "      <td id=\"T_2c857_row12_col0\" class=\"data row12 col0\" >PHILADELPHIA</td>\n",
       "    </tr>\n",
       "    <tr>\n",
       "      <th id=\"T_2c857_level0_row13\" class=\"row_heading level0 row13\" >STATE</th>\n",
       "      <td id=\"T_2c857_row13_col0\" class=\"data row13 col0\" >PA</td>\n",
       "    </tr>\n",
       "    <tr>\n",
       "      <th id=\"T_2c857_level0_row14\" class=\"row_heading level0 row14\" >VIN</th>\n",
       "      <td id=\"T_2c857_row14_col0\" class=\"data row14 col0\" >1HGCV2F38JA</td>\n",
       "    </tr>\n",
       "    <tr>\n",
       "      <th id=\"T_2c857_level0_row15\" class=\"row_heading level0 row15\" >DATEA</th>\n",
       "      <td id=\"T_2c857_row15_col0\" class=\"data row15 col0\" >20200101</td>\n",
       "    </tr>\n",
       "    <tr>\n",
       "      <th id=\"T_2c857_level0_row16\" class=\"row_heading level0 row16\" >LDATE</th>\n",
       "      <td id=\"T_2c857_row16_col0\" class=\"data row16 col0\" >20200101</td>\n",
       "    </tr>\n",
       "    <tr>\n",
       "      <th id=\"T_2c857_level0_row17\" class=\"row_heading level0 row17\" >MILES</th>\n",
       "      <td id=\"T_2c857_row17_col0\" class=\"data row17 col0\" >4</td>\n",
       "    </tr>\n",
       "    <tr>\n",
       "      <th id=\"T_2c857_level0_row18\" class=\"row_heading level0 row18\" >OCCURENCES</th>\n",
       "      <td id=\"T_2c857_row18_col0\" class=\"data row18 col0\" ><NA></td>\n",
       "    </tr>\n",
       "    <tr>\n",
       "      <th id=\"T_2c857_level0_row19\" class=\"row_heading level0 row19\" >CDESCR</th>\n",
       "      <td id=\"T_2c857_row19_col0\" class=\"data row19 col0\" >DRIVING AT THE HIGHWAY, CAR SUDDENLY SLOW DOWN FROM 70MPH TO 40-50MPH,THERE WERE ANY CAR IN FRONT OF ME! I HAVE NOTHING ON MY WINDSHIELD! THERE WEREN'T ANY STOP OR TRAFFIC SIGN! SO HONDA STOP SAYING I AM DRIVING RECKLESSLY!  FOR FEW SECOND I REGAINED CONTROL OF GAS, I HAVE TO SPEED UP MY CAR SO I DON'T GET REAR END, THEN EVERYTHING HAPPEN AGAIN, CAR DECIDED TO TAP BRAKE BY ITSELF. THIS HAPPEN MULTIPLE TIME DURING THE HIGHWAY DRIVING. SCREEN POP UP SAID COLLISION MITIGATION BREAK SYSTEM ERROR. PLEASE CONTACT HONDA DEALERSHIP. AFTER CONTACT DEALERSHIP FOR REPAIR. WAS TOLD THAT THEY COULD NOT DETERMINED THE PROBLEM SINCE THE ERROR DID NOT SHOW UP DURING THEIR IN HOUSE TESTING. AND YES, ERROR CODE DISAPPEARED AFTER CAR RESTARTED. BUT PROBLEM CONSISTS AFTER LONG DISTANCE DRIVE. I DON'T KNOW I SHOULD DRIVE THIS CAR OR I HAVE PRAY YOU GOD THAT ONE DAY I DON'T GET REAR END BECAUSE HONDA ACCORD DECIDES TO BRAKE ITSELF!</td>\n",
       "    </tr>\n",
       "    <tr>\n",
       "      <th id=\"T_2c857_level0_row20\" class=\"row_heading level0 row20\" >CMPL_TYPE</th>\n",
       "      <td id=\"T_2c857_row20_col0\" class=\"data row20 col0\" >IVOQ</td>\n",
       "    </tr>\n",
       "    <tr>\n",
       "      <th id=\"T_2c857_level0_row21\" class=\"row_heading level0 row21\" >POLICE_RPT_YN</th>\n",
       "      <td id=\"T_2c857_row21_col0\" class=\"data row21 col0\" >N</td>\n",
       "    </tr>\n",
       "    <tr>\n",
       "      <th id=\"T_2c857_level0_row22\" class=\"row_heading level0 row22\" >PURCH_DT</th>\n",
       "      <td id=\"T_2c857_row22_col0\" class=\"data row22 col0\" ><NA></td>\n",
       "    </tr>\n",
       "    <tr>\n",
       "      <th id=\"T_2c857_level0_row23\" class=\"row_heading level0 row23\" >ORIG_OWNER_YN</th>\n",
       "      <td id=\"T_2c857_row23_col0\" class=\"data row23 col0\" >N</td>\n",
       "    </tr>\n",
       "    <tr>\n",
       "      <th id=\"T_2c857_level0_row24\" class=\"row_heading level0 row24\" >ANTI_BRAKES_YN</th>\n",
       "      <td id=\"T_2c857_row24_col0\" class=\"data row24 col0\" >N</td>\n",
       "    </tr>\n",
       "    <tr>\n",
       "      <th id=\"T_2c857_level0_row25\" class=\"row_heading level0 row25\" >CRUISE_CONT_YN</th>\n",
       "      <td id=\"T_2c857_row25_col0\" class=\"data row25 col0\" >N</td>\n",
       "    </tr>\n",
       "    <tr>\n",
       "      <th id=\"T_2c857_level0_row26\" class=\"row_heading level0 row26\" >NUM_CYLS</th>\n",
       "      <td id=\"T_2c857_row26_col0\" class=\"data row26 col0\" ><NA></td>\n",
       "    </tr>\n",
       "    <tr>\n",
       "      <th id=\"T_2c857_level0_row27\" class=\"row_heading level0 row27\" >DRIVE_TRAIN</th>\n",
       "      <td id=\"T_2c857_row27_col0\" class=\"data row27 col0\" ><NA></td>\n",
       "    </tr>\n",
       "    <tr>\n",
       "      <th id=\"T_2c857_level0_row28\" class=\"row_heading level0 row28\" >FUEL_SYS</th>\n",
       "      <td id=\"T_2c857_row28_col0\" class=\"data row28 col0\" ><NA></td>\n",
       "    </tr>\n",
       "    <tr>\n",
       "      <th id=\"T_2c857_level0_row29\" class=\"row_heading level0 row29\" >FUEL_TYPE</th>\n",
       "      <td id=\"T_2c857_row29_col0\" class=\"data row29 col0\" ><NA></td>\n",
       "    </tr>\n",
       "    <tr>\n",
       "      <th id=\"T_2c857_level0_row30\" class=\"row_heading level0 row30\" >TRANS_TYPE</th>\n",
       "      <td id=\"T_2c857_row30_col0\" class=\"data row30 col0\" ><NA></td>\n",
       "    </tr>\n",
       "    <tr>\n",
       "      <th id=\"T_2c857_level0_row31\" class=\"row_heading level0 row31\" >VEH_SPEED</th>\n",
       "      <td id=\"T_2c857_row31_col0\" class=\"data row31 col0\" >68</td>\n",
       "    </tr>\n",
       "    <tr>\n",
       "      <th id=\"T_2c857_level0_row32\" class=\"row_heading level0 row32\" >DOT</th>\n",
       "      <td id=\"T_2c857_row32_col0\" class=\"data row32 col0\" ><NA></td>\n",
       "    </tr>\n",
       "    <tr>\n",
       "      <th id=\"T_2c857_level0_row33\" class=\"row_heading level0 row33\" >TIRE_SIZE</th>\n",
       "      <td id=\"T_2c857_row33_col0\" class=\"data row33 col0\" ><NA></td>\n",
       "    </tr>\n",
       "    <tr>\n",
       "      <th id=\"T_2c857_level0_row34\" class=\"row_heading level0 row34\" >LOC_OF_TIRE</th>\n",
       "      <td id=\"T_2c857_row34_col0\" class=\"data row34 col0\" ><NA></td>\n",
       "    </tr>\n",
       "    <tr>\n",
       "      <th id=\"T_2c857_level0_row35\" class=\"row_heading level0 row35\" >TIRE_FAIL_TYPE</th>\n",
       "      <td id=\"T_2c857_row35_col0\" class=\"data row35 col0\" ><NA></td>\n",
       "    </tr>\n",
       "    <tr>\n",
       "      <th id=\"T_2c857_level0_row36\" class=\"row_heading level0 row36\" >ORIG_EQUIP_YN</th>\n",
       "      <td id=\"T_2c857_row36_col0\" class=\"data row36 col0\" ><NA></td>\n",
       "    </tr>\n",
       "    <tr>\n",
       "      <th id=\"T_2c857_level0_row37\" class=\"row_heading level0 row37\" >MANUF_DT</th>\n",
       "      <td id=\"T_2c857_row37_col0\" class=\"data row37 col0\" ><NA></td>\n",
       "    </tr>\n",
       "    <tr>\n",
       "      <th id=\"T_2c857_level0_row38\" class=\"row_heading level0 row38\" >SEAT_TYPE</th>\n",
       "      <td id=\"T_2c857_row38_col0\" class=\"data row38 col0\" ><NA></td>\n",
       "    </tr>\n",
       "    <tr>\n",
       "      <th id=\"T_2c857_level0_row39\" class=\"row_heading level0 row39\" >RESTRAINT_TYPE</th>\n",
       "      <td id=\"T_2c857_row39_col0\" class=\"data row39 col0\" ><NA></td>\n",
       "    </tr>\n",
       "    <tr>\n",
       "      <th id=\"T_2c857_level0_row40\" class=\"row_heading level0 row40\" >DEALER_NAME</th>\n",
       "      <td id=\"T_2c857_row40_col0\" class=\"data row40 col0\" ><NA></td>\n",
       "    </tr>\n",
       "    <tr>\n",
       "      <th id=\"T_2c857_level0_row41\" class=\"row_heading level0 row41\" >DEALER_TEL</th>\n",
       "      <td id=\"T_2c857_row41_col0\" class=\"data row41 col0\" >nan</td>\n",
       "    </tr>\n",
       "    <tr>\n",
       "      <th id=\"T_2c857_level0_row42\" class=\"row_heading level0 row42\" >DEALER_CITY</th>\n",
       "      <td id=\"T_2c857_row42_col0\" class=\"data row42 col0\" ><NA></td>\n",
       "    </tr>\n",
       "    <tr>\n",
       "      <th id=\"T_2c857_level0_row43\" class=\"row_heading level0 row43\" >DEALER_STATE</th>\n",
       "      <td id=\"T_2c857_row43_col0\" class=\"data row43 col0\" ><NA></td>\n",
       "    </tr>\n",
       "    <tr>\n",
       "      <th id=\"T_2c857_level0_row44\" class=\"row_heading level0 row44\" >DEALER_ZIP</th>\n",
       "      <td id=\"T_2c857_row44_col0\" class=\"data row44 col0\" >nan</td>\n",
       "    </tr>\n",
       "    <tr>\n",
       "      <th id=\"T_2c857_level0_row45\" class=\"row_heading level0 row45\" >PROD_TYPE</th>\n",
       "      <td id=\"T_2c857_row45_col0\" class=\"data row45 col0\" >V</td>\n",
       "    </tr>\n",
       "    <tr>\n",
       "      <th id=\"T_2c857_level0_row46\" class=\"row_heading level0 row46\" >REPAIRED_YN</th>\n",
       "      <td id=\"T_2c857_row46_col0\" class=\"data row46 col0\" ><NA></td>\n",
       "    </tr>\n",
       "    <tr>\n",
       "      <th id=\"T_2c857_level0_row47\" class=\"row_heading level0 row47\" >MEDICAL_ATTN</th>\n",
       "      <td id=\"T_2c857_row47_col0\" class=\"data row47 col0\" >N</td>\n",
       "    </tr>\n",
       "    <tr>\n",
       "      <th id=\"T_2c857_level0_row48\" class=\"row_heading level0 row48\" >VEHICLES_TOWED_YN</th>\n",
       "      <td id=\"T_2c857_row48_col0\" class=\"data row48 col0\" >N</td>\n",
       "    </tr>\n",
       "  </tbody>\n",
       "</table>\n"
      ],
      "text/plain": [
       "<pandas.io.formats.style.Styler at 0x7f885369efd0>"
      ]
     },
     "metadata": {},
     "output_type": "display_data"
    }
   ],
   "source": [
    "pd.set_option('max_colwidth', None) \n",
    "display(\n",
    "    import_df\n",
    "    .head(1).T\n",
    "    .style.set_properties(subset=[0], **{'text-align': 'left'})\n",
    ")"
   ]
  },
  {
   "cell_type": "code",
   "execution_count": 17,
   "metadata": {},
   "outputs": [
    {
     "name": "stderr",
     "output_type": "stream",
     "text": [
      "100%|██████████| 9/9 [00:18<00:00,  2.07s/it]\n"
     ]
    }
   ],
   "source": [
    "carcomplaints_hdf = hana_ml.dataframe.create_dataframe_from_pandas(myconn,\n",
    "                                           import_df[import_df['CDESCR'].str.len() <= 2048],\n",
    "                                            table_name=\"COMPLAINTS\",\n",
    "                                            schema='NHTSA',\n",
    "                                            force=True)"
   ]
  },
  {
   "cell_type": "code",
   "execution_count": 18,
   "metadata": {},
   "outputs": [
    {
     "data": {
      "text/plain": [
       "[418303, 49]"
      ]
     },
     "execution_count": 18,
     "metadata": {},
     "output_type": "execute_result"
    }
   ],
   "source": [
    "carcomplaints_hdf.shape"
   ]
  },
  {
   "cell_type": "code",
   "execution_count": 19,
   "metadata": {},
   "outputs": [
    {
     "data": {
      "text/html": [
       "<div>\n",
       "<style scoped>\n",
       "    .dataframe tbody tr th:only-of-type {\n",
       "        vertical-align: middle;\n",
       "    }\n",
       "\n",
       "    .dataframe tbody tr th {\n",
       "        vertical-align: top;\n",
       "    }\n",
       "\n",
       "    .dataframe thead th {\n",
       "        text-align: right;\n",
       "    }\n",
       "</style>\n",
       "<table border=\"1\" class=\"dataframe\">\n",
       "  <thead>\n",
       "    <tr style=\"text-align: right;\">\n",
       "      <th></th>\n",
       "      <th>TABLE_NAME</th>\n",
       "    </tr>\n",
       "  </thead>\n",
       "  <tbody>\n",
       "    <tr>\n",
       "      <th>0</th>\n",
       "      <td>COMPLAINTS</td>\n",
       "    </tr>\n",
       "  </tbody>\n",
       "</table>\n",
       "</div>"
      ],
      "text/plain": [
       "   TABLE_NAME\n",
       "0  COMPLAINTS"
      ]
     },
     "execution_count": 19,
     "metadata": {},
     "output_type": "execute_result"
    }
   ],
   "source": [
    "myconn.get_tables(schema=\"NHTSA\")"
   ]
  },
  {
   "cell_type": "code",
   "execution_count": null,
   "metadata": {},
   "outputs": [],
   "source": [
    "myconn.table(\"COMPLAINTS\", schema='NHTSA').filter(\"LEFT(LDATE,4) = '2024'\").describe().collect().sort_values(by='unique', ascending=True)"
   ]
  },
  {
   "cell_type": "code",
   "execution_count": null,
   "metadata": {},
   "outputs": [],
   "source": []
  }
 ],
 "metadata": {
  "language_info": {
   "name": "python"
  }
 },
 "nbformat": 4,
 "nbformat_minor": 2
}
