{
 "cells": [
  {
   "cell_type": "markdown",
   "id": "2e053b87",
   "metadata": {},
   "source": [
    "## Connect to your SAP HANA database"
   ]
  },
  {
   "cell_type": "code",
   "execution_count": null,
   "id": "c95cf93f",
   "metadata": {},
   "outputs": [],
   "source": [
    "%run \"../01-check_setup.ipynb\""
   ]
  },
  {
   "cell_type": "markdown",
   "id": "240f197c",
   "metadata": {},
   "source": [
    "Load SQLAlchemy magic extension: https://pypi.org/project/ipython-sql/#description"
   ]
  },
  {
   "cell_type": "code",
   "execution_count": null,
   "id": "c62da3a3",
   "metadata": {},
   "outputs": [],
   "source": [
    "%load_ext sql\n",
    "\n",
    "# Use `%config SqlMagic` for configuration changes, if needed"
   ]
  },
  {
   "cell_type": "markdown",
   "id": "ae92534e",
   "metadata": {},
   "source": [
    "Connect using SQLAlchemy Dialect for SAP HANA: https://pypi.org/project/sqlalchemy-hana/#description"
   ]
  },
  {
   "cell_type": "code",
   "execution_count": null,
   "id": "18158cf3",
   "metadata": {},
   "outputs": [],
   "source": [
    "%sql hana://{os.environ[\"HANADB_USR\"]}:{os.environ[\"HANADB_PWD\"]}@{os.environ[\"HANADB_URL\"]}:{os.environ[\"HANADB_PRT\"]}"
   ]
  },
  {
   "cell_type": "code",
   "execution_count": null,
   "id": "55961c90",
   "metadata": {},
   "outputs": [],
   "source": [
    "%%sql\n",
    "\n",
    "SELECT Current_Time FROM DUMMY;"
   ]
  },
  {
   "cell_type": "code",
   "execution_count": null,
   "id": "c30d5824",
   "metadata": {},
   "outputs": [],
   "source": [
    "%%sql\n",
    "\n",
    "SELECT * FROM SPARQL_TABLE('\n",
    "\tSELECT *\n",
    "\tFROM <kgdocu_movies>\n",
    "\tWHERE {\n",
    "\t\t?s ?p ?o .\n",
    "\t}\n",
    "\tLIMIT 5\n",
    "');"
   ]
  },
  {
   "cell_type": "code",
   "execution_count": null,
   "id": "9bdffbc1",
   "metadata": {},
   "outputs": [],
   "source": [
    "%%sql\n",
    "\n",
    "SELECT * FROM SPARQL_TABLE('\n",
    "PREFIX demo: <http://kg.demo.sap.com/>\n",
    "\tSELECT ?movie ?p ?o\n",
    "\tFROM <kgdocu_movies>\n",
    "\tWHERE {\n",
    "\t  ?movie a demo:Film ;\n",
    "\t  \tdemo:title \"The Matrix\" ;\n",
    "\t  \t?p ?o .\n",
    "\t}\n",
    "\tORDER BY DESC(?p) LIMIT 10\n",
    "');"
   ]
  }
 ],
 "metadata": {
  "kernelspec": {
   "display_name": ".venv",
   "language": "python",
   "name": "python3"
  },
  "language_info": {
   "codemirror_mode": {
    "name": "ipython",
    "version": 3
   },
   "file_extension": ".py",
   "mimetype": "text/x-python",
   "name": "python",
   "nbconvert_exporter": "python",
   "pygments_lexer": "ipython3",
   "version": "3.13.1"
  }
 },
 "nbformat": 4,
 "nbformat_minor": 5
}
