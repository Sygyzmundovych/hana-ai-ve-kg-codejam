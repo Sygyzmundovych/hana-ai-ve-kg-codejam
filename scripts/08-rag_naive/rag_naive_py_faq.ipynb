{
 "cells": [
  {
   "cell_type": "code",
   "execution_count": null,
   "metadata": {},
   "outputs": [],
   "source": [
    "%run \"../01-check_setup.ipynb\""
   ]
  },
  {
   "cell_type": "code",
   "execution_count": null,
   "metadata": {},
   "outputs": [],
   "source": [
    "import requests, os\n",
    "\n",
    "os.environ[\"USER_AGENT\"] = f\"{requests.get('https://httpbin.org/user-agent').json()['user-agent']}\"\n",
    "os.environ[\"USER_AGENT\"]"
   ]
  },
  {
   "cell_type": "code",
   "execution_count": null,
   "metadata": {},
   "outputs": [],
   "source": [
    "import zipfile\n",
    "import requests\n",
    "from io import BytesIO\n",
    "\n",
    "# URL of the zipped file\n",
    "zip_url = \"https://docs.python.org/3/archives/python-3.13-docs-text.zip\"\n",
    "\n",
    "# Download the zipped file\n",
    "response = requests.get(zip_url)\n",
    "zip_file = BytesIO(response.content)\n",
    "\n",
    "# Load documents from the zipped file\n",
    "documents_from_zip = []\n",
    "with zipfile.ZipFile(zip_file, 'r') as z:\n",
    "    for file_name in z.namelist():\n",
    "        if not z.getinfo(file_name).is_dir():\n",
    "            with z.open(file_name) as f:\n",
    "                documents_from_zip.append({'metadata': {'file_name': file_name}, 'content': f.read().decode('utf-8')})\n",
    "\n",
    "# Check the number of documents loaded\n",
    "print(f\"Number of documents loaded: {len(documents_from_zip)}\")"
   ]
  },
  {
   "cell_type": "code",
   "execution_count": null,
   "metadata": {},
   "outputs": [],
   "source": [
    "## Select only records where file_name contains '/faq/'\n",
    "faq_documents = [doc for doc in documents_from_zip if '/faq/' in doc['metadata']['file_name']]  \n",
    "print(f\"Number of FAQ documents: {len(faq_documents)}\")"
   ]
  },
  {
   "cell_type": "code",
   "execution_count": null,
   "metadata": {},
   "outputs": [],
   "source": [
    "import pandas as pd\n",
    "\n",
    "## Convert faq_documents to a DataFrame `df_faq`\n",
    "df_faq = pd.DataFrame(faq_documents)\n"
   ]
  },
  {
   "cell_type": "code",
   "execution_count": null,
   "metadata": {},
   "outputs": [],
   "source": [
    "# Convert column metadata of df_faq to string\n",
    "df_faq['metadata'] = df_faq['metadata'].astype(str)"
   ]
  },
  {
   "cell_type": "code",
   "execution_count": null,
   "metadata": {},
   "outputs": [],
   "source": [
    "display(df_faq.dtypes)\n",
    "df_faq=df_faq.convert_dtypes()\n",
    "display(df_faq.dtypes)"
   ]
  },
  {
   "cell_type": "code",
   "execution_count": null,
   "metadata": {},
   "outputs": [],
   "source": [
    "hana_table_name=\"FAQ\""
   ]
  },
  {
   "cell_type": "code",
   "execution_count": null,
   "metadata": {},
   "outputs": [],
   "source": [
    "## Create a table in SAP HANA from `df_faq`\n",
    "from hana_ml.dataframe import create_dataframe_from_pandas\n",
    "hdf_faq_bronze = create_dataframe_from_pandas(connection_context=myconn, \n",
    "                                              pandas_df=df_faq, \n",
    "                                              table_name=hana_table_name, \n",
    "                                              force=True,\n",
    "                                              object_type_as_bin=True,\n",
    "                                              table_structure={'metadata': 'NVARCHAR(5000)' ,'content': 'NCLOB'}\n",
    "                                              )"
   ]
  },
  {
   "cell_type": "code",
   "execution_count": null,
   "metadata": {},
   "outputs": [],
   "source": [
    "hdf_faq_bronze.head().collect()"
   ]
  },
  {
   "cell_type": "markdown",
   "metadata": {},
   "source": [
    "## Generating Text Embeddings in SAP HANA Cloud"
   ]
  },
  {
   "cell_type": "code",
   "execution_count": null,
   "metadata": {},
   "outputs": [],
   "source": [
    "content_column = 'content'"
   ]
  },
  {
   "cell_type": "code",
   "execution_count": null,
   "metadata": {},
   "outputs": [],
   "source": [
    "print(f\"\"\"Number of records selected for further processing: {hdf_faq_bronze.count()}\"\"\")"
   ]
  },
  {
   "cell_type": "code",
   "execution_count": null,
   "metadata": {},
   "outputs": [],
   "source": [
    "### Generating Text Embeddings in SAP HANA Cloud with the new PAL function, function available with hana-ml 2.23.\n",
    "from hana_ml.text.pal_embeddings import PALEmbeddings\n",
    "pe = PALEmbeddings()\n",
    "hdf_faq_silver = pe.fit_transform(hdf_faq_bronze.add_id(), key=\"ID\", target=[f\"{content_column}\"], thread_number=10, batch_size=10) #, max_token_num=512\n",
    "print(f\"{hdf_faq_silver.count()} records processed in {round(pe.runtime, 3)} sec\")"
   ]
  },
  {
   "cell_type": "code",
   "execution_count": null,
   "metadata": {},
   "outputs": [],
   "source": [
    "hdf_faq_silver.get_table_structure()"
   ]
  },
  {
   "cell_type": "code",
   "execution_count": null,
   "metadata": {},
   "outputs": [],
   "source": [
    "hdf_faq_silver.head(1).collect()"
   ]
  },
  {
   "cell_type": "code",
   "execution_count": null,
   "metadata": {},
   "outputs": [],
   "source": [
    "hdf_faq_silver.select_statement"
   ]
  },
  {
   "cell_type": "code",
   "execution_count": null,
   "metadata": {},
   "outputs": [],
   "source": [
    "hdf_faq_silver=hdf_faq_silver.save(where=\"#FAQ_EMBEDDINGS\", force=True)"
   ]
  },
  {
   "cell_type": "markdown",
   "metadata": {},
   "source": [
    "## Semantic search in FAQ"
   ]
  },
  {
   "cell_type": "code",
   "execution_count": null,
   "metadata": {},
   "outputs": [],
   "source": [
    "prompt=\"How is Monty Python relates to Python programming language?\""
   ]
  },
  {
   "cell_type": "code",
   "execution_count": null,
   "metadata": {},
   "outputs": [],
   "source": [
    "df_result = myconn.sql(\n",
    "    f\"\"\"SELECT TOP 5\n",
    "    COSINE_SIMILARITY(VECTOR_EMBEDDING('{prompt}', 'DOCUMENT', 'SAP_NEB.20240715'), \"VECTOR_COL_{content_column}\") AS \"SIMILARITY\",\n",
    "    \"ID\", \"{content_column}\"\n",
    "    FROM ({hdf_faq_silver.select_statement})\n",
    "    ORDER BY 1 DESC;\n",
    "    \"\"\"\n",
    ").collect()"
   ]
  },
  {
   "cell_type": "code",
   "execution_count": null,
   "metadata": {},
   "outputs": [],
   "source": [
    "df_result.head(3)"
   ]
  },
  {
   "cell_type": "code",
   "execution_count": null,
   "metadata": {},
   "outputs": [],
   "source": [
    "# Print the rows of the 'content' column\n",
    "print(df_result['content'][0])"
   ]
  },
  {
   "cell_type": "code",
   "execution_count": null,
   "metadata": {},
   "outputs": [],
   "source": [
    "from IPython.display import Markdown\n",
    "\n",
    "# Convert the rows of the 'content' column to markdown format\n",
    "display(Markdown(df_result['content'][0]))"
   ]
  }
 ],
 "metadata": {
  "kernelspec": {
   "display_name": "env",
   "language": "python",
   "name": "python3"
  },
  "language_info": {
   "codemirror_mode": {
    "name": "ipython",
    "version": 3
   },
   "file_extension": ".py",
   "mimetype": "text/x-python",
   "name": "python",
   "nbconvert_exporter": "python",
   "pygments_lexer": "ipython3",
   "version": "3.13.2"
  }
 },
 "nbformat": 4,
 "nbformat_minor": 2
}
