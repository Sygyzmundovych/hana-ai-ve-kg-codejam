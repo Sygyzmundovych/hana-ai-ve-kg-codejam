{
 "cells": [
  {
   "cell_type": "markdown",
   "metadata": {},
   "source": [
    "## Check the setup and connect to the database"
   ]
  },
  {
   "cell_type": "code",
   "execution_count": 1,
   "metadata": {},
   "outputs": [
    {
     "name": "stdout",
     "output_type": "stream",
     "text": [
      "SAP HANA Client for Python: 2.23.25010300\n",
      "Connected to SAP HANA db version 4.00.000.00.1737457831 (fa/CE2024.40) \n",
      "at c5889dd5-e0f6-4930-8408-94d53ca61dbf.hna0.prod-us10.hanacloud.ondemand.com:443 as CODEJAMHANAAI00\n",
      "Current time on the SAP HANA server: 2025-01-30 21:39:21.996000\n"
     ]
    }
   ],
   "source": [
    "%run \"../01-check_setup.ipynb\""
   ]
  },
  {
   "cell_type": "markdown",
   "metadata": {},
   "source": [
    "# Load Colors Data\n",
    "\n",
    "## Generate colors"
   ]
  },
  {
   "cell_type": "code",
   "execution_count": 2,
   "metadata": {},
   "outputs": [],
   "source": [
    "import pandas as pd\n",
    "import webcolors\n",
    "\n",
    "specs=[webcolors.HTML4, webcolors.CSS2, webcolors.CSS21, webcolors.CSS3]\n"
   ]
  },
  {
   "cell_type": "code",
   "execution_count": 3,
   "metadata": {},
   "outputs": [
    {
     "name": "stdout",
     "output_type": "stream",
     "text": [
      "html4\n"
     ]
    },
    {
     "name": "stderr",
     "output_type": "stream",
     "text": [
      "100%|██████████| 1/1 [00:00<00:00, 14.70it/s]\n"
     ]
    },
    {
     "name": "stdout",
     "output_type": "stream",
     "text": [
      "css2\n"
     ]
    },
    {
     "name": "stderr",
     "output_type": "stream",
     "text": [
      "100%|██████████| 1/1 [00:00<00:00, 83.88it/s]\n"
     ]
    },
    {
     "name": "stdout",
     "output_type": "stream",
     "text": [
      "css21\n"
     ]
    },
    {
     "name": "stderr",
     "output_type": "stream",
     "text": [
      "100%|██████████| 1/1 [00:00<00:00, 74.51it/s]\n"
     ]
    },
    {
     "name": "stdout",
     "output_type": "stream",
     "text": [
      "css3\n"
     ]
    },
    {
     "name": "stderr",
     "output_type": "stream",
     "text": [
      "100%|██████████| 1/1 [00:00<00:00, 77.38it/s]\n"
     ]
    }
   ],
   "source": [
    "for spec in specs:\n",
    "    # Display the `spec`\n",
    "    print(spec)\n",
    "    \n",
    "    # Generate the list of color names and their RGB values\n",
    "    colors_data = [\n",
    "        (wc, *webcolors.name_to_rgb(wc)) \n",
    "        for wc in webcolors.names(spec=spec)\n",
    "    ]\n",
    "\n",
    "    # Create a DataFrame from the list\n",
    "    df = pd.DataFrame(colors_data, columns=[\"Color_Name\", \"Red\", \"Green\", \"Blue\"])\n",
    "\n",
    "    hdf_colors=hdf.create_dataframe_from_pandas(\n",
    "        connection_context=myconn,\n",
    "        table_name=f'COLORS_{spec.upper()}',\n",
    "        schema='COLORS',\n",
    "        pandas_df=df,\n",
    "        force=True  # Overwrites the table if it already exists\n",
    "    )\n"
   ]
  },
  {
   "cell_type": "code",
   "execution_count": 4,
   "metadata": {},
   "outputs": [
    {
     "data": {
      "text/html": [
       "<div>\n",
       "<style scoped>\n",
       "    .dataframe tbody tr th:only-of-type {\n",
       "        vertical-align: middle;\n",
       "    }\n",
       "\n",
       "    .dataframe tbody tr th {\n",
       "        vertical-align: top;\n",
       "    }\n",
       "\n",
       "    .dataframe thead th {\n",
       "        text-align: right;\n",
       "    }\n",
       "</style>\n",
       "<table border=\"1\" class=\"dataframe\">\n",
       "  <thead>\n",
       "    <tr style=\"text-align: right;\">\n",
       "      <th></th>\n",
       "      <th>TABLE_NAME</th>\n",
       "    </tr>\n",
       "  </thead>\n",
       "  <tbody>\n",
       "    <tr>\n",
       "      <th>0</th>\n",
       "      <td>COLORS_CSS2</td>\n",
       "    </tr>\n",
       "    <tr>\n",
       "      <th>1</th>\n",
       "      <td>COLORS_CSS21</td>\n",
       "    </tr>\n",
       "    <tr>\n",
       "      <th>2</th>\n",
       "      <td>COLORS_CSS3</td>\n",
       "    </tr>\n",
       "    <tr>\n",
       "      <th>3</th>\n",
       "      <td>COLORS_HTML4</td>\n",
       "    </tr>\n",
       "  </tbody>\n",
       "</table>\n",
       "</div>"
      ],
      "text/plain": [
       "     TABLE_NAME\n",
       "0   COLORS_CSS2\n",
       "1  COLORS_CSS21\n",
       "2   COLORS_CSS3\n",
       "3  COLORS_HTML4"
      ]
     },
     "execution_count": 4,
     "metadata": {},
     "output_type": "execute_result"
    }
   ],
   "source": [
    "myconn.get_tables(\"COLORS\")"
   ]
  }
 ],
 "metadata": {
  "language_info": {
   "name": "python"
  }
 },
 "nbformat": 4,
 "nbformat_minor": 2
}
