{
 "cells": [
  {
   "cell_type": "markdown",
   "id": "db0a161f",
   "metadata": {},
   "source": [
    "---\n",
    "preview: LangChain support for HANA KG engine"
   ]
  },
  {
   "cell_type": "code",
   "execution_count": null,
   "id": "86b95455",
   "metadata": {},
   "outputs": [],
   "source": [
    "# !pip install ../whl/langchain_hana-0.1.0-py3-none-any.whl"
   ]
  },
  {
   "cell_type": "code",
   "execution_count": null,
   "id": "38c5c859-12d7-4b16-a31f-7b82d58b5eeb",
   "metadata": {},
   "outputs": [],
   "source": [
    "import langchain\n",
    "# import langchain_community\n",
    "import langchain_hana\n",
    "print('langchain version:', langchain.__version__)\n",
    "# print('langchain_community version:', langchain_community.__version__)\n",
    "print('langchain_hana version:', langchain_hana.__version__)"
   ]
  },
  {
   "cell_type": "code",
   "execution_count": null,
   "id": "2ac4bf10-3eab-4a52-bc34-e2847a455495",
   "metadata": {},
   "outputs": [],
   "source": [
    "from langchain_hana import HanaRdfGraph\n",
    "from langchain_hana import HanaSparqlQAChain"
   ]
  },
  {
   "cell_type": "code",
   "execution_count": null,
   "id": "91f2e39c-d247-43ed-b8ba-ced7f52dcb9c",
   "metadata": {},
   "outputs": [],
   "source": [
    "# connect to HANA Cloud\n",
    "from hdbcli import dbapi\n",
    "connection = dbapi.connect(key='KGE2')"
   ]
  },
  {
   "cell_type": "markdown",
   "id": "60fd9206",
   "metadata": {},
   "source": [
    "---"
   ]
  },
  {
   "cell_type": "code",
   "execution_count": null,
   "id": "5e73219d-f016-4653-945e-a088773570fe",
   "metadata": {},
   "outputs": [],
   "source": [
    "# let's create a LangChain Graph Store by referring to a named graph and its ontology\n",
    "ontology_uri = \"wiki_movies_ontology\"\n",
    "graph_uri = \"wiki_movies\"\n",
    "\n",
    "hkg = HanaRdfGraph(\n",
    "    connection=connection, \n",
    "    ontology_uri=ontology_uri, \n",
    "    graph_uri=graph_uri\n",
    "    )\n",
    "\n",
    "# print(hkg.get_schema)\n"
   ]
  },
  {
   "cell_type": "code",
   "execution_count": null,
   "id": "05008833",
   "metadata": {},
   "outputs": [],
   "source": [
    "# sure we can run SPARQL queries\n",
    "sparql_query = '''\n",
    "\tPREFIX demo: <http://kg.demo.sap.com/>\n",
    "\tPREFIX rdfs: <http://www.w3.org/2000/01/rdf-schema#>\n",
    "\tSELECT ?movie ?actor ?actorLabel\n",
    "\tFROM <wiki_movies>\n",
    "\tWHERE {\n",
    "\t\t?movie a demo:Film ;\n",
    "\t  \t\tdemo:title \"The Matrix\" .\n",
    "\t\t?actor demo:acted_in ?movie ;\n",
    "\t  \t\trdfs:label ?actorLabel .\n",
    "\t} LIMIT 10\n",
    "    '''\n",
    "\n",
    "# hkg.query(query=sparql_query,content_type='application/sparql-results+json')\n",
    "\n",
    "hkg.convert_csv_response_to_dataframe(hkg.query(query=sparql_query))"
   ]
  },
  {
   "cell_type": "markdown",
   "id": "e4211ec2",
   "metadata": {},
   "source": [
    "---\n",
    "Create a LangChain SPARQL QA Chain<br>\n",
    "The SPARQL QA Chain translates a natural language query into a SPARQL query which fits the KGs model"
   ]
  },
  {
   "cell_type": "code",
   "execution_count": null,
   "id": "8ed552fc-805b-40d7-b587-5456f20a2693",
   "metadata": {},
   "outputs": [],
   "source": [
    "# we need an LLM to generate the SAPRQL queries\n",
    "from gen_ai_hub.proxy.langchain.openai import ChatOpenAI\n",
    "llm = ChatOpenAI(\n",
    "    proxy_model_name=\"gpt-4o\", temperature=0\n",
    ")"
   ]
  },
  {
   "cell_type": "code",
   "execution_count": null,
   "id": "9c919353-115c-40b3-bcf5-c9854e1c86f8",
   "metadata": {},
   "outputs": [],
   "source": [
    "# let's create a SPARQL QA Chain\n",
    "hkg_qa_chain = HanaSparqlQAChain.from_llm(\n",
    "    llm=llm,\n",
    "    verbose=True,\n",
    "    allow_dangerous_requests=True,\n",
    "    graph=hkg\n",
    "    )"
   ]
  },
  {
   "cell_type": "code",
   "execution_count": null,
   "id": "92cffa43-cf93-4588-ae6a-4b35b06caef9",
   "metadata": {},
   "outputs": [],
   "source": [
    "query = \"Which directors played most often a role in their film? Which roles did they play and what are the film titles?\"\n",
    "# query = \"which are the two latest film in the genre 'action film' and who directed them?\"\n",
    "\n",
    "output = hkg_qa_chain.invoke(query)"
   ]
  },
  {
   "cell_type": "code",
   "execution_count": null,
   "id": "918831df",
   "metadata": {},
   "outputs": [],
   "source": [
    "print('User input: ' + output['query'])\n",
    "print('LLM response: ' + output['result'])"
   ]
  },
  {
   "cell_type": "markdown",
   "id": "cc527171",
   "metadata": {},
   "source": [
    "---"
   ]
  },
  {
   "cell_type": "code",
   "execution_count": null,
   "id": "938d4e6a",
   "metadata": {},
   "outputs": [],
   "source": []
  },
  {
   "cell_type": "code",
   "execution_count": null,
   "id": "fdaf91c9",
   "metadata": {},
   "outputs": [],
   "source": []
  },
  {
   "cell_type": "code",
   "execution_count": null,
   "id": "285b6c19",
   "metadata": {},
   "outputs": [],
   "source": []
  },
  {
   "cell_type": "code",
   "execution_count": null,
   "id": "4aa67931",
   "metadata": {},
   "outputs": [],
   "source": []
  },
  {
   "cell_type": "code",
   "execution_count": null,
   "id": "f5e5e4a9",
   "metadata": {},
   "outputs": [],
   "source": [
    "# sure we can run SPARQL queries\n",
    "sparql_query = '''\n",
    "PREFIX kg: <http://kg.demo.sap.com/>\n",
    "PREFIX rdfs: <http://www.w3.org/2000/01/rdf-schema#>\n",
    "SELECT *\n",
    "\n",
    "FROM <wiki_movies>\n",
    "WHERE {\n",
    "    ?director a kg:Director ;\n",
    "              kg:directed ?film ;\n",
    "              rdfs:label ?directorName .\n",
    "    \n",
    "    ?film kg:publicationDate ?pubDate ;\n",
    "          kg:title ?filmTitle ;\n",
    "          kg:castMemberStatement ?castStatement .\n",
    "    ?castStatement kg:castMember ?director ;\n",
    "                   kg:characterRole ?role .\n",
    "    FILTER (YEAR(?pubDate) = 2022)\n",
    "}'''\n",
    "hkg.convert_csv_response_to_dataframe(hkg.query(query=sparql_query))\n"
   ]
  }
 ],
 "metadata": {
  "kernelspec": {
   "display_name": "env",
   "language": "python",
   "name": "python3"
  },
  "language_info": {
   "codemirror_mode": {
    "name": "ipython",
    "version": 3
   },
   "file_extension": ".py",
   "mimetype": "text/x-python",
   "name": "python",
   "nbconvert_exporter": "python",
   "pygments_lexer": "ipython3",
   "version": "3.13.1"
  }
 },
 "nbformat": 4,
 "nbformat_minor": 5
}
