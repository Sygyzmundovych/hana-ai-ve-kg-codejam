{
 "cells": [
  {
   "cell_type": "code",
   "execution_count": null,
   "metadata": {},
   "outputs": [],
   "source": [
    "%run \"../01-check_setup.ipynb\""
   ]
  },
  {
   "cell_type": "code",
   "execution_count": null,
   "metadata": {},
   "outputs": [],
   "source": [
    "hana_table_name=\"FAQ\""
   ]
  },
  {
   "cell_type": "code",
   "execution_count": null,
   "metadata": {},
   "outputs": [],
   "source": [
    "# from hana_ml.dataframe import ConnectionContext\n",
    "\n",
    "## Create a dataframe for a HANA table\n",
    "hdf_faq_bronze = myconn.table(hana_table_name)"
   ]
  },
  {
   "cell_type": "code",
   "execution_count": null,
   "metadata": {},
   "outputs": [],
   "source": [
    "import pandas as pd\n",
    "pd.set_option('max_colwidth', 256) \n",
    "\n",
    "hdf_faq_bronze.head().collect().T"
   ]
  },
  {
   "cell_type": "markdown",
   "metadata": {},
   "source": [
    "## Text splitting, preparing FAQs for vectorization"
   ]
  },
  {
   "cell_type": "code",
   "execution_count": null,
   "metadata": {},
   "outputs": [],
   "source": [
    "hdf_faq_bronze.add_id().head().collect().T"
   ]
  },
  {
   "cell_type": "code",
   "execution_count": null,
   "metadata": {},
   "outputs": [],
   "source": [
    "# Applying the Text Splitter with recursive-splitting, available with hana-ml 2.23\n",
    "from hana_ml.text.text_splitter import TextSplitter\n",
    "\n",
    "splitter = TextSplitter(split_type='document', doc_type='html', keep_separator=True, overlap=4)\n",
    "splitter._extend_pal_parameter({'GLOBAL_SEPARATOR':'[<h1>,<h2>,<h3>,<h4>,<h5>,<h6>]'})\n",
    "hdf_faq_silver = splitter.split_text(\n",
    "    hdf_faq_bronze.add_id().select('ID', 'content_html'), \n",
    "    order_status=True\n",
    "    )"
   ]
  },
  {
   "cell_type": "code",
   "execution_count": null,
   "metadata": {},
   "outputs": [],
   "source": [
    "import pandas as pd\n",
    "pd.set_option('max_colwidth', None) \n",
    "\n",
    "print(hdf_faq_silver.shape)\n",
    "display(splitter.statistics_.collect())\n",
    "display(hdf_faq_silver.select(\"*\", ('LENGTH(\"CONTENT\")', \"CHUNCK_SIZE\")).head(10).collect())"
   ]
  },
  {
   "cell_type": "markdown",
   "metadata": {},
   "source": [
    "## Generating Text Embeddings in SAP HANA Cloud"
   ]
  },
  {
   "cell_type": "code",
   "execution_count": null,
   "metadata": {},
   "outputs": [],
   "source": [
    "content_column = 'CONTENT'"
   ]
  },
  {
   "cell_type": "code",
   "execution_count": null,
   "metadata": {},
   "outputs": [],
   "source": [
    "print(f\"\"\"Number of records selected for further processing: {hdf_faq_silver.count()}\"\"\")"
   ]
  },
  {
   "cell_type": "code",
   "execution_count": null,
   "metadata": {},
   "outputs": [],
   "source": [
    "hdf_faq_silver.get_table_structure()"
   ]
  },
  {
   "cell_type": "code",
   "execution_count": null,
   "metadata": {},
   "outputs": [],
   "source": [
    "### Generating Text Embeddings in SAP HANA Cloud with the new PAL function, function available with hana-ml 2.23.\n",
    "from hana_ml.text.pal_embeddings import PALEmbeddings\n",
    "pe = PALEmbeddings(model_version='SAP_GXY.20250407')\n",
    "hdf_faq_gold = pe.fit_transform(hdf_faq_silver, key=\"SUB_ID\", target=[f\"{content_column}\"], thread_number=10, batch_size=10) #, max_token_num=512\n",
    "print(f\"{hdf_faq_gold.count()} records processed in {round(pe.runtime, 3)} sec\")"
   ]
  },
  {
   "cell_type": "code",
   "execution_count": null,
   "metadata": {},
   "outputs": [],
   "source": [
    "hdf_faq_gold.get_table_structure()"
   ]
  },
  {
   "cell_type": "code",
   "execution_count": null,
   "metadata": {},
   "outputs": [],
   "source": [
    "hdf_faq_gold.head(2).collect()"
   ]
  },
  {
   "cell_type": "code",
   "execution_count": null,
   "metadata": {},
   "outputs": [],
   "source": [
    "hdf_faq_gold.select_statement"
   ]
  },
  {
   "cell_type": "code",
   "execution_count": null,
   "metadata": {},
   "outputs": [],
   "source": [
    "hdf_faq_gold=hdf_faq_gold.save(where=\"#FAQ_EMBEDDINGS\", force=True)"
   ]
  },
  {
   "cell_type": "markdown",
   "metadata": {},
   "source": [
    "## Semantic search in FAQ"
   ]
  },
  {
   "cell_type": "code",
   "execution_count": null,
   "metadata": {},
   "outputs": [],
   "source": [
    "prompt=\"What are origins of the Python name?\""
   ]
  },
  {
   "cell_type": "code",
   "execution_count": null,
   "metadata": {},
   "outputs": [],
   "source": [
    "df_result = myconn.sql(\n",
    "    f\"\"\"SELECT TOP 5\n",
    "    COSINE_SIMILARITY(VECTOR_EMBEDDING('{prompt}', 'QUERY', 'SAP_GXY.20250407'), \"VECTOR_COL_{content_column}\") AS \"SIMILARITY\",\n",
    "    \"ID\", \"{content_column}\"\n",
    "    FROM ({hdf_faq_gold.select_statement})\n",
    "    ORDER BY 1 DESC;\n",
    "    \"\"\"\n",
    ").collect()"
   ]
  },
  {
   "cell_type": "code",
   "execution_count": null,
   "metadata": {},
   "outputs": [],
   "source": [
    "df_result.head(5)"
   ]
  },
  {
   "cell_type": "code",
   "execution_count": null,
   "metadata": {},
   "outputs": [],
   "source": [
    "# Print the rows of the 'content' column\n",
    "print(df_result['CONTENT'][0])"
   ]
  },
  {
   "cell_type": "code",
   "execution_count": null,
   "metadata": {},
   "outputs": [],
   "source": [
    "from IPython.display import HTML\n",
    "\n",
    "# Convert the rows of the 'content' column to markdown format\n",
    "display(HTML(df_result['CONTENT'][0]))"
   ]
  }
 ],
 "metadata": {
  "kernelspec": {
   "display_name": ".venv",
   "language": "python",
   "name": "python3"
  },
  "language_info": {
   "codemirror_mode": {
    "name": "ipython",
    "version": 3
   },
   "file_extension": ".py",
   "mimetype": "text/x-python",
   "name": "python",
   "nbconvert_exporter": "python",
   "pygments_lexer": "ipython3",
   "version": "3.13.1"
  }
 },
 "nbformat": 4,
 "nbformat_minor": 2
}
