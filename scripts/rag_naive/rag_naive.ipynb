{
 "cells": [
  {
   "cell_type": "code",
   "execution_count": 39,
   "metadata": {},
   "outputs": [],
   "source": [
    "from langchain_community.document_loaders import GitLoader\n",
    "from langchain_community.vectorstores.hanavector import HanaDB\n",
    "from hdbcli import dbapi\n",
    "from langchain_core.embeddings.fake import FakeEmbeddings\n",
    "from langchain_core.embeddings import Embeddings"
   ]
  },
  {
   "cell_type": "code",
   "execution_count": 210,
   "metadata": {},
   "outputs": [],
   "source": [
    "#from langchain_core.embeddings import Embeddings\n",
    "from hdbcli import dbapi\n",
    "\n",
    "class HanaEmbeddings(Embeddings):\n",
    "    def __init__(\n",
    "        self,\n",
    "        connection: dbapi.Connection\n",
    "    ):\n",
    "        self.connection = connection\n",
    "\n",
    "    def embed_documents(self, texts: list[str]) -> list[list[float]]:\n",
    "        return [self.embed_query(text) for text in texts]\n",
    "\n",
    "    def embed_query(self, text: str) -> list[float]:\n",
    "        mycur = self.connection.cursor()\n",
    "        # print(type(text))\n",
    "        select_sql=f\"\"\"SELECT TO_NVARCHAR(VECTOR_EMBEDDING('{text.replace(\"'\",\"''\")}', 'DOCUMENT', 'SAP_NEB.20240715')) FROM DUMMY;\"\"\"\n",
    "        print(select_sql)\n",
    "        mycur.execute(\n",
    "            select_sql\n",
    "        )\n",
    "        rows = mycur.fetchone()\n",
    "        return eval(rows[0])"
   ]
  },
  {
   "cell_type": "code",
   "execution_count": 214,
   "metadata": {},
   "outputs": [],
   "source": [
    "from langchain_core.embeddings import Embeddings\n",
    "from hdbcli import dbapi\n",
    "\n",
    "class HanaEmbeddings(Embeddings):\n",
    "    def __init__(\n",
    "        self,\n",
    "        connection: dbapi.Connection\n",
    "    ):\n",
    "        self.connection = connection\n",
    "\n",
    "    def embed_documents(self, texts: list[str]) -> list[list[float]]:\n",
    "        return [self.embed_query(text) for text in texts]\n",
    "\n",
    "    def embed_query(self, text: str) -> list[float]:\n",
    "        mycur = self.connection.cursor()\n",
    "        # print(type(text))\n",
    "        select_sql=f\"\"\"SELECT TO_NVARCHAR(VECTOR_EMBEDDING(?, 'DOCUMENT', 'SAP_NEB.20240715')) FROM DUMMY;\"\"\"\n",
    "        # print(select_sql)\n",
    "        mycur.execute(\n",
    "            select_sql, text\n",
    "        )\n",
    "        rows = mycur.fetchone()\n",
    "        return eval(rows[0])"
   ]
  },
  {
   "cell_type": "code",
   "execution_count": 198,
   "metadata": {},
   "outputs": [],
   "source": [
    "hanaemb=HanaEmbeddings(connection_to_hana)"
   ]
  },
  {
   "cell_type": "code",
   "execution_count": 199,
   "metadata": {},
   "outputs": [
    {
     "data": {
      "text/plain": [
       "768"
      ]
     },
     "execution_count": 199,
     "metadata": {},
     "output_type": "execute_result"
    }
   ],
   "source": [
    "len(hanaemb.embed_query('Hello World!'))"
   ]
  },
  {
   "cell_type": "code",
   "execution_count": 7,
   "metadata": {},
   "outputs": [
    {
     "data": {
      "text/plain": [
       "81"
      ]
     },
     "execution_count": 7,
     "metadata": {},
     "output_type": "execute_result"
    }
   ],
   "source": [
    "loader = GitLoader(\n",
    "    clone_url=\"https://github.com/SAP/terraform-provider-btp\",\n",
    "    repo_path=\"./gen/docs/\",\n",
    "    file_filter=lambda file_path: file_path.startswith(\"./gen/docs/docs\")\n",
    "    and file_path.endswith(\".md\"),\n",
    "    branch=\"main\",\n",
    ")\n",
    "documents = loader.load()\n",
    "\n",
    "len(documents)"
   ]
  },
  {
   "cell_type": "code",
   "execution_count": 53,
   "metadata": {},
   "outputs": [],
   "source": [
    "## Dev Advocates central instance\n",
    "myhost='c5889dd5-e0f6-4930-8408-94d53ca61dbf.hna0.prod-us10.hanacloud.ondemand.com'\n",
    "myport=443\n",
    "myuser='DBADMIN_VR'"
   ]
  },
  {
   "cell_type": "code",
   "execution_count": 149,
   "metadata": {},
   "outputs": [],
   "source": [
    "connection_to_hana = dbapi.connect(\n",
    "            address=myhost,\n",
    "            port=myport,\n",
    "            user=myuser,\n",
    "            password=input(),\n",
    "            encrypt=True,\n",
    "            sslValidateCertificate=False,\n",
    "        )"
   ]
  },
  {
   "cell_type": "code",
   "execution_count": 215,
   "metadata": {},
   "outputs": [],
   "source": [
    "db = HanaDB(\n",
    "    embedding=HanaEmbeddings(connection_to_hana), connection=connection_to_hana, table_name=\"MY_LANGCHAIN_EMBEDDINGS\"\n",
    ")"
   ]
  },
  {
   "cell_type": "code",
   "execution_count": 218,
   "metadata": {},
   "outputs": [
    {
     "data": {
      "text/plain": [
       "True"
      ]
     },
     "execution_count": 218,
     "metadata": {},
     "output_type": "execute_result"
    }
   ],
   "source": [
    "db.delete(filter={})"
   ]
  },
  {
   "cell_type": "code",
   "execution_count": 219,
   "metadata": {},
   "outputs": [
    {
     "data": {
      "text/plain": [
       "[]"
      ]
     },
     "execution_count": 219,
     "metadata": {},
     "output_type": "execute_result"
    }
   ],
   "source": [
    "db.add_documents(documents=documents)"
   ]
  }
 ],
 "metadata": {
  "language_info": {
   "name": "python"
  }
 },
 "nbformat": 4,
 "nbformat_minor": 2
}
