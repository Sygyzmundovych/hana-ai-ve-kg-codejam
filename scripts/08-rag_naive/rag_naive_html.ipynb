{
 "cells": [
  {
   "cell_type": "code",
   "execution_count": 1,
   "metadata": {},
   "outputs": [
    {
     "name": "stdout",
     "output_type": "stream",
     "text": [
      "SAP HANA Client for Python: 2.23.25010300\n",
      "Connected to SAP HANA db version 4.00.000.00.1737457831 (fa/CE2024.40) \n",
      "at c5889dd5-e0f6-4930-8408-94d53ca61dbf.hna0.prod-us10.hanacloud.ondemand.com:443 as CODEJAMHANAAI00\n",
      "Current time on the SAP HANA server: 2025-01-30 19:43:59.863000\n"
     ]
    }
   ],
   "source": [
    "%run \"../check_setup.ipynb\""
   ]
  },
  {
   "cell_type": "code",
   "execution_count": 2,
   "metadata": {},
   "outputs": [
    {
     "data": {
      "text/plain": [
       "'python-requests/2.32.3'"
      ]
     },
     "execution_count": 2,
     "metadata": {},
     "output_type": "execute_result"
    }
   ],
   "source": [
    "import requests, os\n",
    "\n",
    "os.environ[\"USER_AGENT\"] = f\"{requests.get('https://httpbin.org/user-agent').json()['user-agent']}\"\n",
    "os.environ[\"USER_AGENT\"]"
   ]
  },
  {
   "cell_type": "code",
   "execution_count": 4,
   "metadata": {},
   "outputs": [
    {
     "data": {
      "text/plain": [
       "9"
      ]
     },
     "execution_count": 4,
     "metadata": {},
     "output_type": "execute_result"
    }
   ],
   "source": [
    "from loader_sapblog import CustomSAPBlogLoader\n",
    "\n",
    "# Define URLs\n",
    "urls = [\n",
    "    \"https://community.sap.com/t5/blogs/blogarticleprintpage/blog-id/technology-blog-sap/article-id/177423\", # \"New Machine Learning and NLP features in SAP HANA Cloud 2024 Q4\"\n",
    "    \"https://community.sap.com/t5/blogs/blogarticleprintpage/blog-id/technology-blog-sap/article-id/177557\", # \"Text Chunking – An Exciting New NLP Function in SAP HANA Cloud\"\n",
    "    \"https://community.sap.com/t5/blogs/blogarticleprintpage/blog-id/erp-blog-sap/article-id/58847\", # \"New Text Analysis in SAP HANA Cloud Predictive Analysis Library (PAL)\"\n",
    "    \"https://community.sap.com/t5/blogs/blogarticleprintpage/blog-id/erp-blog-sap/article-id/58846\", # \"Text Embedding Service in SAP HANA Cloud Predictive Analysis Library (PAL)\"\n",
    "    \"https://community.sap.com/t5/blogs/blogarticleprintpage/blog-id/technology-blog-sap/article-id/177553\", # \"New Information Retrieval Techniques in SAP HANA Cloud using BM25 and ANNS for Advanced Text Mining\"\n",
    "    \"https://community.sap.com/t5/blogs/blogarticleprintpage/blog-id/erp-blog-sap/article-id/58845\", # \"Dimensionality Reduction of Text Embeddings for Hybrid Prediction Data\"\n",
    "    \"https://community.sap.com/t5/blogs/blogarticleprintpage/blog-id/erp-blog-sap/article-id/58419\", # \"Document Clustering using KMeans and Text Embeddings\"\n",
    "    \"https://community.sap.com/t5/blogs/blogarticleprintpage/blog-id/technology-blog-sap/article-id/176747\", # \"Hybrid Prediction with Tabular and Text Inputs using Hybrid Gradient Boosting Trees\"\n",
    "    \"https://community.sap.com/t5/blogs/blogarticleprintpage/blog-id/technology-blog-sap/article-id/177560\", # \"Exploring ML Explainability in SAP HANA PAL - AutoML\"\n",
    "\n",
    "]\n",
    "\n",
    "# Load and process articles\n",
    "loader = CustomSAPBlogLoader(urls)\n",
    "(documents := loader.load()).__len__()\n"
   ]
  },
  {
   "cell_type": "code",
   "execution_count": 6,
   "metadata": {},
   "outputs": [
    {
     "name": "stdout",
     "output_type": "stream",
     "text": [
      "https://community.sap.com/t5/blogs/blogarticleprintpage/blog-id/technology-blog-sap/article-id/177423 20475\n",
      "https://community.sap.com/t5/blogs/blogarticleprintpage/blog-id/technology-blog-sap/article-id/177557 12979\n",
      "https://community.sap.com/t5/blogs/blogarticleprintpage/blog-id/erp-blog-sap/article-id/58847 12891\n",
      "https://community.sap.com/t5/blogs/blogarticleprintpage/blog-id/erp-blog-sap/article-id/58846 17156\n",
      "https://community.sap.com/t5/blogs/blogarticleprintpage/blog-id/technology-blog-sap/article-id/177553 25245\n",
      "https://community.sap.com/t5/blogs/blogarticleprintpage/blog-id/erp-blog-sap/article-id/58845 14210\n",
      "https://community.sap.com/t5/blogs/blogarticleprintpage/blog-id/erp-blog-sap/article-id/58419 5867\n",
      "https://community.sap.com/t5/blogs/blogarticleprintpage/blog-id/technology-blog-sap/article-id/176747 7691\n",
      "https://community.sap.com/t5/blogs/blogarticleprintpage/blog-id/technology-blog-sap/article-id/177560 18610\n"
     ]
    }
   ],
   "source": [
    "\n",
    "# Check the length of each article's content\n",
    "for doc in documents:\n",
    "    print(doc.metadata[\"source\"], len(doc.page_content), end=\"\\n\")\n"
   ]
  },
  {
   "cell_type": "code",
   "execution_count": 7,
   "metadata": {},
   "outputs": [
    {
     "name": "stdout",
     "output_type": "stream",
     "text": [
      "With the SAP HANA Cloud 2024 Q4 release, several new embedded **Machine Learning / AI and NLP functions** have been released with the SAP HANA Cloud **Predictive Analysis Library (PAL)**. Key new capabilities to be highlighted are introduction of **text analysis**, **text vectorization**, **vector d\n"
     ]
    }
   ],
   "source": [
    "print(documents[0].page_content[:300])"
   ]
  },
  {
   "cell_type": "code",
   "execution_count": 8,
   "metadata": {},
   "outputs": [],
   "source": [
    "connection_to_hana = myconn.connection"
   ]
  },
  {
   "cell_type": "code",
   "execution_count": 10,
   "metadata": {},
   "outputs": [
    {
     "name": "stdout",
     "output_type": "stream",
     "text": [
      "Table to be used is MY_LANGCHAIN_EMBEDDINGS\n"
     ]
    }
   ],
   "source": [
    "from langchain_community.vectorstores.hanavector import HanaDB\n",
    "from embedder_saphana import HanaEmbeddings\n",
    "\n",
    "db = HanaDB(\n",
    "    embedding=HanaEmbeddings(connection_to_hana), connection=connection_to_hana, table_name=\"MY_LANGCHAIN_EMBEDDINGS\"\n",
    ")\n",
    "\n",
    "print(f\"Table to be used is {db.table_name}\")"
   ]
  },
  {
   "cell_type": "code",
   "execution_count": 11,
   "metadata": {},
   "outputs": [
    {
     "data": {
      "text/plain": [
       "True"
      ]
     },
     "execution_count": 11,
     "metadata": {},
     "output_type": "execute_result"
    }
   ],
   "source": [
    "db.delete(filter={})"
   ]
  },
  {
   "cell_type": "code",
   "execution_count": 12,
   "metadata": {},
   "outputs": [
    {
     "name": "stdout",
     "output_type": "stream",
     "text": [
      "CPU times: user 20.9 ms, sys: 480 μs, total: 21.4 ms\n",
      "Wall time: 1.68 s\n"
     ]
    },
    {
     "data": {
      "text/plain": [
       "[]"
      ]
     },
     "execution_count": 12,
     "metadata": {},
     "output_type": "execute_result"
    }
   ],
   "source": [
    "%%time\n",
    "db.add_documents(documents=documents)"
   ]
  },
  {
   "cell_type": "markdown",
   "metadata": {},
   "source": [
    "## Text splitting, preparing articles's text for vectorization"
   ]
  },
  {
   "cell_type": "code",
   "execution_count": 15,
   "metadata": {},
   "outputs": [],
   "source": [
    "hdf_langchain_tab = myconn.table(db.table_name).add_id()"
   ]
  },
  {
   "cell_type": "code",
   "execution_count": 16,
   "metadata": {},
   "outputs": [
    {
     "data": {
      "text/plain": [
       "{'ID': 'INT',\n",
       " 'VEC_TEXT': 'NCLOB',\n",
       " 'VEC_META': 'NCLOB',\n",
       " 'VEC_VECTOR': 'REAL_VECTOR'}"
      ]
     },
     "execution_count": 16,
     "metadata": {},
     "output_type": "execute_result"
    }
   ],
   "source": [
    "hdf_langchain_tab.get_table_structure()"
   ]
  },
  {
   "cell_type": "code",
   "execution_count": 20,
   "metadata": {},
   "outputs": [
    {
     "data": {
      "text/html": [
       "<div>\n",
       "<style scoped>\n",
       "    .dataframe tbody tr th:only-of-type {\n",
       "        vertical-align: middle;\n",
       "    }\n",
       "\n",
       "    .dataframe tbody tr th {\n",
       "        vertical-align: top;\n",
       "    }\n",
       "\n",
       "    .dataframe thead th {\n",
       "        text-align: right;\n",
       "    }\n",
       "</style>\n",
       "<table border=\"1\" class=\"dataframe\">\n",
       "  <thead>\n",
       "    <tr style=\"text-align: right;\">\n",
       "      <th></th>\n",
       "      <th>0</th>\n",
       "    </tr>\n",
       "  </thead>\n",
       "  <tbody>\n",
       "    <tr>\n",
       "      <th>ID</th>\n",
       "      <td>1</td>\n",
       "    </tr>\n",
       "    <tr>\n",
       "      <th>VEC_TEXT</th>\n",
       "      <td>With the SAP HANA Cloud 2024 Q4 release, several new embedded **Machine Learning / AI and NLP functions** have been released...</td>\n",
       "    </tr>\n",
       "    <tr>\n",
       "      <th>VEC_META</th>\n",
       "      <td>{\"source\": \"https://community.sap.com/t5/blogs/blogarticleprintpage/blog-id/technology-blog-sap/article-id/177423\"}</td>\n",
       "    </tr>\n",
       "    <tr>\n",
       "      <th>VEC_VECTOR</th>\n",
       "      <td>[-0.023911751806735992, -0.028109241276979446, 0.01552630215883255, 0.013691979460418224, 0.04396688938140869, 0.00687683559...</td>\n",
       "    </tr>\n",
       "  </tbody>\n",
       "</table>\n",
       "</div>"
      ],
      "text/plain": [
       "                                                                                                                                          0\n",
       "ID                                                                                                                                        1\n",
       "VEC_TEXT    With the SAP HANA Cloud 2024 Q4 release, several new embedded **Machine Learning / AI and NLP functions** have been released...\n",
       "VEC_META                {\"source\": \"https://community.sap.com/t5/blogs/blogarticleprintpage/blog-id/technology-blog-sap/article-id/177423\"}\n",
       "VEC_VECTOR  [-0.023911751806735992, -0.028109241276979446, 0.01552630215883255, 0.013691979460418224, 0.04396688938140869, 0.00687683559..."
      ]
     },
     "execution_count": 20,
     "metadata": {},
     "output_type": "execute_result"
    }
   ],
   "source": [
    "import pandas as pd\n",
    "pd.set_option('max_colwidth', 128) \n",
    "\n",
    "hdf_langchain_tab.head(1).collect().T"
   ]
  },
  {
   "cell_type": "code",
   "execution_count": 24,
   "metadata": {},
   "outputs": [],
   "source": [
    "# Applying the Text Splitter with recursive-splitting, available with hana-ml 2.23\n",
    "from hana_ml.text.text_splitter import TextSplitter\n",
    "\n",
    "splitter = TextSplitter(split_type='recursive', chunk_size=1024, overlap=64)\n",
    "#splitter._extend_pal_parameter({'GLOBAL_SEPARATOR':'[. ]', 'KEEP_SEPARATOR':1})\n",
    "splitted_text = splitter.split_text(\n",
    "    hdf_langchain_tab.select('ID', 'VEC_TEXT'), \n",
    "    order_status=True\n",
    "    )"
   ]
  },
  {
   "cell_type": "code",
   "execution_count": 25,
   "metadata": {},
   "outputs": [
    {
     "name": "stdout",
     "output_type": "stream",
     "text": [
      "[177, 3]\n"
     ]
    },
    {
     "data": {
      "text/html": [
       "<div>\n",
       "<style scoped>\n",
       "    .dataframe tbody tr th:only-of-type {\n",
       "        vertical-align: middle;\n",
       "    }\n",
       "\n",
       "    .dataframe tbody tr th {\n",
       "        vertical-align: top;\n",
       "    }\n",
       "\n",
       "    .dataframe thead th {\n",
       "        text-align: right;\n",
       "    }\n",
       "</style>\n",
       "<table border=\"1\" class=\"dataframe\">\n",
       "  <thead>\n",
       "    <tr style=\"text-align: right;\">\n",
       "      <th></th>\n",
       "      <th>STAT_NAME</th>\n",
       "      <th>STAT_VALUE</th>\n",
       "    </tr>\n",
       "  </thead>\n",
       "  <tbody>\n",
       "    <tr>\n",
       "      <th>0</th>\n",
       "      <td>GLOBAL_SEPARATOR_LIST</td>\n",
       "      <td>{\"Separator\":\"[\\n\\n,\\n, ]\"}</td>\n",
       "    </tr>\n",
       "  </tbody>\n",
       "</table>\n",
       "</div>"
      ],
      "text/plain": [
       "               STAT_NAME                   STAT_VALUE\n",
       "0  GLOBAL_SEPARATOR_LIST  {\"Separator\":\"[\\n\\n,\\n, ]\"}"
      ]
     },
     "metadata": {},
     "output_type": "display_data"
    },
    {
     "data": {
      "text/html": [
       "<div>\n",
       "<style scoped>\n",
       "    .dataframe tbody tr th:only-of-type {\n",
       "        vertical-align: middle;\n",
       "    }\n",
       "\n",
       "    .dataframe tbody tr th {\n",
       "        vertical-align: top;\n",
       "    }\n",
       "\n",
       "    .dataframe thead th {\n",
       "        text-align: right;\n",
       "    }\n",
       "</style>\n",
       "<table border=\"1\" class=\"dataframe\">\n",
       "  <thead>\n",
       "    <tr style=\"text-align: right;\">\n",
       "      <th></th>\n",
       "      <th>ID</th>\n",
       "      <th>SUB_ID</th>\n",
       "      <th>CONTENT</th>\n",
       "      <th>CHUNCK_SIZE</th>\n",
       "    </tr>\n",
       "  </thead>\n",
       "  <tbody>\n",
       "    <tr>\n",
       "      <th>0</th>\n",
       "      <td>1</td>\n",
       "      <td>0</td>\n",
       "      <td>With the SAP HANA Cloud 2024 Q4 release, several new embedded **Machine Learning / AI and NLP functions** have been released with the SAP HANA Cloud **Predictive Analysis Library (PAL)**. Key new capabilities to be highlighted are introduction of **text analysis**, **text vectorization**, **vector data as input** to many more Machine Learning functions like **classification** and **regression** in the SAP HANA Cloud database. An enhancement summary is available in the What’s new document for [SAP HANA Cloud database 2024.40 (QRC 4/2024)](https://help.sap.com/whats-new/2495b34492334456a49084831c2bea4e?Category=Predictive+Analysis+Library&amp;Valid_as_Of=2024-12-01:2024-12-30&amp;locale=en-US).\\n![ChristophMorgen_0-1733594472111.png](/t5/image/serverpage/image-id/199433i6EC88FC9CBCC847F/image-size/large?v=v2&amp;px=999 \"ChristophMorgen_0-1733594472111.png\")\\n## Text analysis and text vectorization\\n### Text chunking</td>\n",
       "      <td>912</td>\n",
       "    </tr>\n",
       "    <tr>\n",
       "      <th>1</th>\n",
       "      <td>1</td>\n",
       "      <td>1</td>\n",
       "      <td>## Text analysis and text vectorization\\n### Text chunking\\nText data or documents, for further analysis typically requires to be broken down into smaller, more manageable segments such as sentences, paragraphs, or semantic units. This facilitates improved subsequent natural language processing (NLP) tasks. Moreover, processing text units by embedding models and Large Language Models (LLMs) could result in information loss or inaccuracies, as these models often have text token length limits for processing. Hence, text chunking ensures efficient text processing, mitigating potential issues.\\nA new [text chunking](https://help.sap.com/docs/hana-cloud-database/sap-hana-cloud-sap-hana-database-predictive-analysis-library/text-chunking-text-chunking?) function is introduced in the Predictive Analysis Library (PAL), which supports multiple splitting methods\\n* Splitting by character\\n* Recursive splitting by a list of separators or words\\n* Splitting by document type or language</td>\n",
       "      <td>981</td>\n",
       "    </tr>\n",
       "    <tr>\n",
       "      <th>2</th>\n",
       "      <td>1</td>\n",
       "      <td>2</td>\n",
       "      <td>* Splitting by document type or language\\nFor **text chunking** a SQL function as well as new method in the Python ML client is made available:\\n![ChristophMorgen_1-1733594472114.png](/t5/image/serverpage/image-id/199432i8B4ADD10CD68A12D/image-size/large?v=v2&amp;px=999 \"ChristophMorgen_1-1733594472114.png\")\\nThe new text splitting function are explained in more detail in the following blog post: [Text chunking - an exciting new NLP function in SAP HANA Cloud](https://community.sap.com/t5/technology-blogs-by-sap/text-chunking-an-exciting-new-nlp-function-in-sap-hana-cloud/ba-p/13958766), by [@xinchen](/t5/user/viewprofilepage/user-id/712820) .\\n### Text analysis\\nA key technique in **Natural Language Processing (NLP)** is **text analysis**, aiming to automatically extract information like a sentiment expressed or detected entities from unstructured text data.</td>\n",
       "      <td>862</td>\n",
       "    </tr>\n",
       "    <tr>\n",
       "      <th>3</th>\n",
       "      <td>1</td>\n",
       "      <td>3</td>\n",
       "      <td>In SAP HANA Cloud a new [text analysis](https://help.sap.com/docs/hana-cloud-database/sap-hana-cloud-sap-hana-database-predictive-analysis-library/text-analysis-textanalysis?state=DRAFT) function within the Predictive Analysis Library is now introduced, which utilizes tiny BERT NLP models to process the text data for the following tasks\\n* **Named Entity Recognition (NER)**, for identifying entities like names of persons, organizations, locations, time expressions, etc.,\\n* **Sentiment****analysis,** for determining the expressed positive, negative, or neutral sentiment in a document, sentence of text phrase,\\n* **Part-of-Speech (POS) tagging,** for identifying the grammatical category or words like nouns, verbs, adjectives, and adverbs. It is essential for comprehending the syntactic structure of languages, and can benefit many further NLP scenarios like two text analysis tasks mentioned above, i.e. NER and sentiment analysis</td>\n",
       "      <td>937</td>\n",
       "    </tr>\n",
       "    <tr>\n",
       "      <th>4</th>\n",
       "      <td>1</td>\n",
       "      <td>4</td>\n",
       "      <td>The text analysis task to be applied for each text object, can be specified using the task-column (e.g. ‘pos, ner, sentiment-phrase-score’) of the input table to the PAL\\_TEXT\\_Analysis function:\\n![ChristophMorgen_2-1733594472126.png](/t5/image/serverpage/image-id/199434iB7E682B39FDE2358/image-size/large?v=v2&amp;px=999 \"ChristophMorgen_2-1733594472126.png\")\\nA more detailed introduction about the new capabilities is provided in the following blog post [New Text Analysis in SAP HANA Cloud Predictive Analysis Library (PAL)](https://community.sap.com/t5/enterprise-resource-planning-blogs-by-sap/new-text-analysis-in-sap-hana-cloud-predictive-analysis-library-pal/ba-p/13958935), by [@likun\\_hou](/t5/user/viewprofilepage/user-id/718103).\\nText analysis in SAP HANA Cloud supports initially the following five languages: English, German, French, Spanish, and Portuguese.\\n### Text vectorization</td>\n",
       "      <td>891</td>\n",
       "    </tr>\n",
       "    <tr>\n",
       "      <th>5</th>\n",
       "      <td>1</td>\n",
       "      <td>5</td>\n",
       "      <td>### Text vectorization\\nIn recent years innovations in the field of NLP, the use of deep neural networks has emerged as an efficient technique for processing non-structured texts, as revealed by the power of large language models (LLMs). Specifically, texts can be mapped into a high-dimensional latent space by various text embedding models. Text embedding models can map semantically similar or distinct texts as numerically neighboring or far apart in the text embedding vector space. Embedding vectors, as structured numerical data, are therefore the best choice for encoding the semantic meaning of texts in applications that include similarity search, classification, regression or clustering.</td>\n",
       "      <td>698</td>\n",
       "    </tr>\n",
       "    <tr>\n",
       "      <th>6</th>\n",
       "      <td>1</td>\n",
       "      <td>6</td>\n",
       "      <td>SAP HANA Cloud introduces new text vectorization capabilities by use of new **[text embedding](https://help.sap.com/docs/hana-cloud-database/sap-hana-cloud-sap-hana-database-predictive-analysis-library/no-content-for-file-textembedding-md?)** functions (PAL\\_TEXTEMBEDDING, and the SQL function [VECTOR\\_EMBEDDING](https://help.sap.com/docs/hana-cloud-database/sap-hana-cloud-sap-hana-database-vector-engine-guide/creating-text-embeddings-in-sap-hana?)), exposing the use of a specific [Text Embedding Model](https://help.sap.com/docs/hana-cloud-database/sap-hana-cloud-sap-hana-database-predictive-analysis-library/text-embedding-model?) in SAP HANA Cloud. This is a big step toward, making text processing smoother and more efficient, right where your text data lives — with the database.\\n![ChristophMorgen_3-1733594472154.png](/t5/image/serverpage/image-id/199437iD4ADFC5E476834C5/image-size/large?v=v2&amp;px=999 \"ChristophMorgen_3-1733594472154.png\")</td>\n",
       "      <td>951</td>\n",
       "    </tr>\n",
       "    <tr>\n",
       "      <th>7</th>\n",
       "      <td>1</td>\n",
       "      <td>7</td>\n",
       "      <td>Text embedding vectors are stored in SAP HANA Cloud columns of type REAL\\_VECTOR, depending of analysis task and purpose the embedding vectors are used, additional techniques may be applied (discussed further below) to reduce the dimensionality of the vector data, reducing the in-memory footprint for storage and processing.\\nFor a more detailed capability description see the following blog post [Text Embedding Service in SAP HANA Cloud Predictive Analysis Library (PAL)](https://community.sap.com/t5/enterprise-resource-planning-blogs-by-sap/text-embedding-service-in-sap-hana-cloud-predictive-analysis-library-pal/ba-p/13958864), by [@likun\\_hou](/t5/user/viewprofilepage/user-id/718103).\\n### Enabling access to the in-database Natural Language Processing capabilities</td>\n",
       "      <td>772</td>\n",
       "    </tr>\n",
       "    <tr>\n",
       "      <th>8</th>\n",
       "      <td>1</td>\n",
       "      <td>8</td>\n",
       "      <td>As part of the SAP HANA Cloud instance provisioning and configuration steps, the Provisioned NLP model services in SAP HANA Cloud, the advanced settings capability “Natural Language Processing (NLP)” can be selected to enable the use of the text embedding model and the text analysis models. Further details are given in the following [SAP NOTE 3527706](https://me.sap.com/notes/3527706).\\n![ChristophMorgen_4-1733594472158.png](/t5/image/serverpage/image-id/199435i9DE08183598C8FBD/image-size/large?v=v2&amp;px=999 \"ChristophMorgen_4-1733594472158.png\")\\n## Text search and text-embedding based advanced text mining\\n### Keyword-based text search</td>\n",
       "      <td>640</td>\n",
       "    </tr>\n",
       "    <tr>\n",
       "      <th>9</th>\n",
       "      <td>1</td>\n",
       "      <td>9</td>\n",
       "      <td>### Keyword-based text search\\nInformation retrieval from text typically starts with text search techniques. A new keyword-based search function [BM25 search](https://help.sap.com/docs/hana-cloud-database/sap-hana-cloud-sap-hana-database-predictive-analysis-library/bm25-search?) (SEARCH\\_DOCS\\_BY\\_KEYWORDS) is provided with the SAP HANA Cloud Predictive Analysis Library (PAL). BM25, is a widely used ranking functions in text search, it estimates the relevance of documents compared to a list of search keywords provided. It builds on top of term-/document-frequencies (TF\\_IDF values).\\n![ChristophMorgen_5-1733594472200.png](/t5/image/serverpage/image-id/199436i118C151CA67C282D/image-size/large?v=v2&amp;px=999 \"ChristophMorgen_5-1733594472200.png\")</td>\n",
       "      <td>749</td>\n",
       "    </tr>\n",
       "  </tbody>\n",
       "</table>\n",
       "</div>"
      ],
      "text/plain": [
       "   ID  SUB_ID  \\\n",
       "0   1       0   \n",
       "1   1       1   \n",
       "2   1       2   \n",
       "3   1       3   \n",
       "4   1       4   \n",
       "5   1       5   \n",
       "6   1       6   \n",
       "7   1       7   \n",
       "8   1       8   \n",
       "9   1       9   \n",
       "\n",
       "                                                                                                                                                                                                                                                                                                                                                                                                                                                                                                                                                                                                                                                                                                                                                                                                                                                                                                                                                                                                                       CONTENT  \\\n",
       "0                                                                          With the SAP HANA Cloud 2024 Q4 release, several new embedded **Machine Learning / AI and NLP functions** have been released with the SAP HANA Cloud **Predictive Analysis Library (PAL)**. Key new capabilities to be highlighted are introduction of **text analysis**, **text vectorization**, **vector data as input** to many more Machine Learning functions like **classification** and **regression** in the SAP HANA Cloud database. An enhancement summary is available in the What’s new document for [SAP HANA Cloud database 2024.40 (QRC 4/2024)](https://help.sap.com/whats-new/2495b34492334456a49084831c2bea4e?Category=Predictive+Analysis+Library&Valid_as_Of=2024-12-01:2024-12-30&locale=en-US).\\n![ChristophMorgen_0-1733594472111.png](/t5/image/serverpage/image-id/199433i6EC88FC9CBCC847F/image-size/large?v=v2&px=999 \"ChristophMorgen_0-1733594472111.png\")\\n## Text analysis and text vectorization\\n### Text chunking   \n",
       "1  ## Text analysis and text vectorization\\n### Text chunking\\nText data or documents, for further analysis typically requires to be broken down into smaller, more manageable segments such as sentences, paragraphs, or semantic units. This facilitates improved subsequent natural language processing (NLP) tasks. Moreover, processing text units by embedding models and Large Language Models (LLMs) could result in information loss or inaccuracies, as these models often have text token length limits for processing. Hence, text chunking ensures efficient text processing, mitigating potential issues.\\nA new [text chunking](https://help.sap.com/docs/hana-cloud-database/sap-hana-cloud-sap-hana-database-predictive-analysis-library/text-chunking-text-chunking?) function is introduced in the Predictive Analysis Library (PAL), which supports multiple splitting methods\\n* Splitting by character\\n* Recursive splitting by a list of separators or words\\n* Splitting by document type or language   \n",
       "2                                                                                                                          * Splitting by document type or language\\nFor **text chunking** a SQL function as well as new method in the Python ML client is made available:\\n![ChristophMorgen_1-1733594472114.png](/t5/image/serverpage/image-id/199432i8B4ADD10CD68A12D/image-size/large?v=v2&px=999 \"ChristophMorgen_1-1733594472114.png\")\\nThe new text splitting function are explained in more detail in the following blog post: [Text chunking - an exciting new NLP function in SAP HANA Cloud](https://community.sap.com/t5/technology-blogs-by-sap/text-chunking-an-exciting-new-nlp-function-in-sap-hana-cloud/ba-p/13958766), by [@xinchen](/t5/user/viewprofilepage/user-id/712820) .\\n### Text analysis\\nA key technique in **Natural Language Processing (NLP)** is **text analysis**, aiming to automatically extract information like a sentiment expressed or detected entities from unstructured text data.   \n",
       "3                                                 In SAP HANA Cloud a new [text analysis](https://help.sap.com/docs/hana-cloud-database/sap-hana-cloud-sap-hana-database-predictive-analysis-library/text-analysis-textanalysis?state=DRAFT) function within the Predictive Analysis Library is now introduced, which utilizes tiny BERT NLP models to process the text data for the following tasks\\n* **Named Entity Recognition (NER)**, for identifying entities like names of persons, organizations, locations, time expressions, etc.,\\n* **Sentiment****analysis,** for determining the expressed positive, negative, or neutral sentiment in a document, sentence of text phrase,\\n* **Part-of-Speech (POS) tagging,** for identifying the grammatical category or words like nouns, verbs, adjectives, and adverbs. It is essential for comprehending the syntactic structure of languages, and can benefit many further NLP scenarios like two text analysis tasks mentioned above, i.e. NER and sentiment analysis   \n",
       "4                                                                                              The text analysis task to be applied for each text object, can be specified using the task-column (e.g. ‘pos, ner, sentiment-phrase-score’) of the input table to the PAL\\_TEXT\\_Analysis function:\\n![ChristophMorgen_2-1733594472126.png](/t5/image/serverpage/image-id/199434iB7E682B39FDE2358/image-size/large?v=v2&px=999 \"ChristophMorgen_2-1733594472126.png\")\\nA more detailed introduction about the new capabilities is provided in the following blog post [New Text Analysis in SAP HANA Cloud Predictive Analysis Library (PAL)](https://community.sap.com/t5/enterprise-resource-planning-blogs-by-sap/new-text-analysis-in-sap-hana-cloud-predictive-analysis-library-pal/ba-p/13958935), by [@likun\\_hou](/t5/user/viewprofilepage/user-id/718103).\\nText analysis in SAP HANA Cloud supports initially the following five languages: English, German, French, Spanish, and Portuguese.\\n### Text vectorization   \n",
       "5                                                                                                                                                                                                                                                                                                  ### Text vectorization\\nIn recent years innovations in the field of NLP, the use of deep neural networks has emerged as an efficient technique for processing non-structured texts, as revealed by the power of large language models (LLMs). Specifically, texts can be mapped into a high-dimensional latent space by various text embedding models. Text embedding models can map semantically similar or distinct texts as numerically neighboring or far apart in the text embedding vector space. Embedding vectors, as structured numerical data, are therefore the best choice for encoding the semantic meaning of texts in applications that include similarity search, classification, regression or clustering.   \n",
       "6                                     SAP HANA Cloud introduces new text vectorization capabilities by use of new **[text embedding](https://help.sap.com/docs/hana-cloud-database/sap-hana-cloud-sap-hana-database-predictive-analysis-library/no-content-for-file-textembedding-md?)** functions (PAL\\_TEXTEMBEDDING, and the SQL function [VECTOR\\_EMBEDDING](https://help.sap.com/docs/hana-cloud-database/sap-hana-cloud-sap-hana-database-vector-engine-guide/creating-text-embeddings-in-sap-hana?)), exposing the use of a specific [Text Embedding Model](https://help.sap.com/docs/hana-cloud-database/sap-hana-cloud-sap-hana-database-predictive-analysis-library/text-embedding-model?) in SAP HANA Cloud. This is a big step toward, making text processing smoother and more efficient, right where your text data lives — with the database.\\n![ChristophMorgen_3-1733594472154.png](/t5/image/serverpage/image-id/199437iD4ADFC5E476834C5/image-size/large?v=v2&px=999 \"ChristophMorgen_3-1733594472154.png\")   \n",
       "7                                                                                                                                                                                                                       Text embedding vectors are stored in SAP HANA Cloud columns of type REAL\\_VECTOR, depending of analysis task and purpose the embedding vectors are used, additional techniques may be applied (discussed further below) to reduce the dimensionality of the vector data, reducing the in-memory footprint for storage and processing.\\nFor a more detailed capability description see the following blog post [Text Embedding Service in SAP HANA Cloud Predictive Analysis Library (PAL)](https://community.sap.com/t5/enterprise-resource-planning-blogs-by-sap/text-embedding-service-in-sap-hana-cloud-predictive-analysis-library-pal/ba-p/13958864), by [@likun\\_hou](/t5/user/viewprofilepage/user-id/718103).\\n### Enabling access to the in-database Natural Language Processing capabilities   \n",
       "8                                                                                                                                                                                                                                                                                                                                                          As part of the SAP HANA Cloud instance provisioning and configuration steps, the Provisioned NLP model services in SAP HANA Cloud, the advanced settings capability “Natural Language Processing (NLP)” can be selected to enable the use of the text embedding model and the text analysis models. Further details are given in the following [SAP NOTE 3527706](https://me.sap.com/notes/3527706).\\n![ChristophMorgen_4-1733594472158.png](/t5/image/serverpage/image-id/199435i9DE08183598C8FBD/image-size/large?v=v2&px=999 \"ChristophMorgen_4-1733594472158.png\")\\n## Text search and text-embedding based advanced text mining\\n### Keyword-based text search   \n",
       "9                                                                                                                                                                                                                                              ### Keyword-based text search\\nInformation retrieval from text typically starts with text search techniques. A new keyword-based search function [BM25 search](https://help.sap.com/docs/hana-cloud-database/sap-hana-cloud-sap-hana-database-predictive-analysis-library/bm25-search?) (SEARCH\\_DOCS\\_BY\\_KEYWORDS) is provided with the SAP HANA Cloud Predictive Analysis Library (PAL). BM25, is a widely used ranking functions in text search, it estimates the relevance of documents compared to a list of search keywords provided. It builds on top of term-/document-frequencies (TF\\_IDF values).\\n![ChristophMorgen_5-1733594472200.png](/t5/image/serverpage/image-id/199436i118C151CA67C282D/image-size/large?v=v2&px=999 \"ChristophMorgen_5-1733594472200.png\")   \n",
       "\n",
       "   CHUNCK_SIZE  \n",
       "0          912  \n",
       "1          981  \n",
       "2          862  \n",
       "3          937  \n",
       "4          891  \n",
       "5          698  \n",
       "6          951  \n",
       "7          772  \n",
       "8          640  \n",
       "9          749  "
      ]
     },
     "metadata": {},
     "output_type": "display_data"
    }
   ],
   "source": [
    "import pandas as pd\n",
    "pd.set_option('max_colwidth', None) \n",
    "\n",
    "print(splitted_text.shape)\n",
    "display(splitter.statistics_.collect())\n",
    "\n",
    "display(splitted_text.select(\"*\", ('LENGTH(\"CONTENT\")', \"CHUNCK_SIZE\")).head(10).collect())"
   ]
  },
  {
   "cell_type": "markdown",
   "metadata": {},
   "source": [
    "## Generating Text Embeddings in SAP HANA Cloud"
   ]
  },
  {
   "cell_type": "code",
   "execution_count": 26,
   "metadata": {},
   "outputs": [
    {
     "name": "stdout",
     "output_type": "stream",
     "text": [
      "Number of records selected for further processing: 177\n"
     ]
    }
   ],
   "source": [
    "print(f\"\"\"Number of records selected for further processing: {splitted_text.count()}\"\"\")"
   ]
  },
  {
   "cell_type": "code",
   "execution_count": 27,
   "metadata": {},
   "outputs": [
    {
     "name": "stdout",
     "output_type": "stream",
     "text": [
      "177 records processed in 3.658 sec\n"
     ]
    }
   ],
   "source": [
    "### Generating Text Embeddings in SAP HANA Cloud with the new PAL function, function available with hana-ml 2.23.\n",
    "from hana_ml.text.pal_embeddings import PALEmbeddings\n",
    "pe = PALEmbeddings()\n",
    "textembeddings = pe.fit_transform(splitted_text, key=\"SUB_ID\", target=[\"CONTENT\"], thread_number=10, batch_size=10) #, max_token_num=512\n",
    "print(f\"{textembeddings.count()} records processed in {round(pe.runtime, 3)} sec\")"
   ]
  },
  {
   "cell_type": "code",
   "execution_count": 28,
   "metadata": {},
   "outputs": [
    {
     "data": {
      "text/plain": [
       "{'ID': 'INT',\n",
       " 'SUB_ID': 'INT',\n",
       " 'CONTENT': 'NCLOB',\n",
       " 'VECTOR_COL_CONTENT': 'REAL_VECTOR'}"
      ]
     },
     "execution_count": 28,
     "metadata": {},
     "output_type": "execute_result"
    }
   ],
   "source": [
    "textembeddings.get_table_structure()"
   ]
  },
  {
   "cell_type": "code",
   "execution_count": 29,
   "metadata": {},
   "outputs": [
    {
     "data": {
      "text/html": [
       "<div>\n",
       "<style scoped>\n",
       "    .dataframe tbody tr th:only-of-type {\n",
       "        vertical-align: middle;\n",
       "    }\n",
       "\n",
       "    .dataframe tbody tr th {\n",
       "        vertical-align: top;\n",
       "    }\n",
       "\n",
       "    .dataframe thead th {\n",
       "        text-align: right;\n",
       "    }\n",
       "</style>\n",
       "<table border=\"1\" class=\"dataframe\">\n",
       "  <thead>\n",
       "    <tr style=\"text-align: right;\">\n",
       "      <th></th>\n",
       "      <th>ID</th>\n",
       "      <th>SUB_ID</th>\n",
       "      <th>CONTENT</th>\n",
       "      <th>VECTOR_COL_CONTENT</th>\n",
       "    </tr>\n",
       "  </thead>\n",
       "  <tbody>\n",
       "    <tr>\n",
       "      <th>0</th>\n",
       "      <td>1</td>\n",
       "      <td>0</td>\n",
       "      <td>With the SAP HANA Cloud 2024 Q4 release, several new embedded **Machine Learning / AI and NLP functions** have been released with the SAP HANA Cloud **Predictive Analysis Library (PAL)**. Key new capabilities to be highlighted are introduction of **text analysis**, **text vectorization**, **vector data as input** to many more Machine Learning functions like **classification** and **regression** in the SAP HANA Cloud database. An enhancement summary is available in the What’s new document for [SAP HANA Cloud database 2024.40 (QRC 4/2024)](https://help.sap.com/whats-new/2495b34492334456a49084831c2bea4e?Category=Predictive+Analysis+Library&amp;Valid_as_Of=2024-12-01:2024-12-30&amp;locale=en-US).\\n![ChristophMorgen_0-1733594472111.png](/t5/image/serverpage/image-id/199433i6EC88FC9CBCC847F/image-size/large?v=v2&amp;px=999 \"ChristophMorgen_0-1733594472111.png\")\\n## Text analysis and text vectorization\\n### Text chunking</td>\n",
       "      <td>[-0.023911774158477783, -0.028109241276979446, 0.015526297502219677, 0.013691983185708523, 0.04396688938140869, 0.006876830942928791, 0.03683269023895264, -0.0035757615696638823, -0.06305049359798431, 0.009632617235183716, -0.021553143858909607, 0.004323621746152639, -0.027989041060209274, 0.025459082797169685, 0.03479696810245514, 0.028946630656719208, 0.027081387117505074, 0.003150323638692498, 0.07960813492536545, 0.026996217668056488, -0.010766889899969101, 0.0016619986854493618, 0.04091837629675865, -0.0028601456433534622, 0.0016500973142683506, -0.008816101588308811, 1.6541744116693735e-05, 0.0015323148109018803, -0.06911253184080124, -0.018324455246329308, 0.035987094044685364, -5.23844501003623e-05, -0.026142774149775505, -0.01637185923755169, 0.009819632396101952, 0.04864133894443512, -0.036709774285554886, 0.0032759925816208124, -0.018378810957074165, -0.023431824520230293, -0.05680566281080246, 0.03835161030292511, -0.02340955287218094, 0.0018498275894671679, -0.00692454120144248, 0.020993608981370926, -0.10551895946264267, 0.019862355664372444, 0.007885497063398361, 0.0009694462642073631, -0.08036550134420395, 0.004181185737252235, -0.032536301761865616, -0.025150753557682037, -0.0010078886989504099, 0.02551381103694439, -0.03170022368431091, -0.056162070482969284, -0.016596633940935135, -0.01743553951382637, 0.029681053012609482, -0.028969570994377136, -0.020978808403015137, -0.01587980054318905, 0.040055837482213974, -0.06240379810333252, -0.027329791337251663, -0.0038561318069696426, -0.03743898496031761, -0.029643619433045387, -0.01701352372765541, -0.0006565761286765337, -0.020680518820881844, -0.0036640872713178396, 0.00343317911028862, -0.053119562566280365, -0.0036951431538909674, 0.031123574823141098, 0.04208618029952049, 0.010570920072495937, 0.037269677966833115, 0.011130962520837784, 0.032465752214193344, 0.03077493980526924, -0.008563791401684284, -0.01373370923101902, -0.012327004224061966, -0.048215027898550034, -0.022186260670423508, 0.05310133844614029, 0.016308974474668503, -0.04790455847978592, 0.0607713982462883, 0.011412310414016247, 0.0002739897754509002, 0.04081522300839424, 0.015716614201664925, -0.01510055735707283, 0.00749729061499238, -0.02972254529595375, ...]</td>\n",
       "    </tr>\n",
       "  </tbody>\n",
       "</table>\n",
       "</div>"
      ],
      "text/plain": [
       "   ID  SUB_ID  \\\n",
       "0   1       0   \n",
       "\n",
       "                                                                                                                                                                                                                                                                                                                                                                                                                                                                                                                                                                                                                                                                                                                                                                                                                                                                                                                                               CONTENT  \\\n",
       "0  With the SAP HANA Cloud 2024 Q4 release, several new embedded **Machine Learning / AI and NLP functions** have been released with the SAP HANA Cloud **Predictive Analysis Library (PAL)**. Key new capabilities to be highlighted are introduction of **text analysis**, **text vectorization**, **vector data as input** to many more Machine Learning functions like **classification** and **regression** in the SAP HANA Cloud database. An enhancement summary is available in the What’s new document for [SAP HANA Cloud database 2024.40 (QRC 4/2024)](https://help.sap.com/whats-new/2495b34492334456a49084831c2bea4e?Category=Predictive+Analysis+Library&Valid_as_Of=2024-12-01:2024-12-30&locale=en-US).\\n![ChristophMorgen_0-1733594472111.png](/t5/image/serverpage/image-id/199433i6EC88FC9CBCC847F/image-size/large?v=v2&px=999 \"ChristophMorgen_0-1733594472111.png\")\\n## Text analysis and text vectorization\\n### Text chunking   \n",
       "\n",
       "                                                                                                                                                                                                                                                                                                                                                                                                                                                                                                                                                                                                                                                                                                                                                                                                                                                                                                                                                                                                                                                                                                                                                                                                                                                                                                                                                                                                                                                                                                                                                                                                                                                                                                                                                                                                                                                                                                                                                                                                                                                                                                                                                                                                                                                                                                               VECTOR_COL_CONTENT  \n",
       "0  [-0.023911774158477783, -0.028109241276979446, 0.015526297502219677, 0.013691983185708523, 0.04396688938140869, 0.006876830942928791, 0.03683269023895264, -0.0035757615696638823, -0.06305049359798431, 0.009632617235183716, -0.021553143858909607, 0.004323621746152639, -0.027989041060209274, 0.025459082797169685, 0.03479696810245514, 0.028946630656719208, 0.027081387117505074, 0.003150323638692498, 0.07960813492536545, 0.026996217668056488, -0.010766889899969101, 0.0016619986854493618, 0.04091837629675865, -0.0028601456433534622, 0.0016500973142683506, -0.008816101588308811, 1.6541744116693735e-05, 0.0015323148109018803, -0.06911253184080124, -0.018324455246329308, 0.035987094044685364, -5.23844501003623e-05, -0.026142774149775505, -0.01637185923755169, 0.009819632396101952, 0.04864133894443512, -0.036709774285554886, 0.0032759925816208124, -0.018378810957074165, -0.023431824520230293, -0.05680566281080246, 0.03835161030292511, -0.02340955287218094, 0.0018498275894671679, -0.00692454120144248, 0.020993608981370926, -0.10551895946264267, 0.019862355664372444, 0.007885497063398361, 0.0009694462642073631, -0.08036550134420395, 0.004181185737252235, -0.032536301761865616, -0.025150753557682037, -0.0010078886989504099, 0.02551381103694439, -0.03170022368431091, -0.056162070482969284, -0.016596633940935135, -0.01743553951382637, 0.029681053012609482, -0.028969570994377136, -0.020978808403015137, -0.01587980054318905, 0.040055837482213974, -0.06240379810333252, -0.027329791337251663, -0.0038561318069696426, -0.03743898496031761, -0.029643619433045387, -0.01701352372765541, -0.0006565761286765337, -0.020680518820881844, -0.0036640872713178396, 0.00343317911028862, -0.053119562566280365, -0.0036951431538909674, 0.031123574823141098, 0.04208618029952049, 0.010570920072495937, 0.037269677966833115, 0.011130962520837784, 0.032465752214193344, 0.03077493980526924, -0.008563791401684284, -0.01373370923101902, -0.012327004224061966, -0.048215027898550034, -0.022186260670423508, 0.05310133844614029, 0.016308974474668503, -0.04790455847978592, 0.0607713982462883, 0.011412310414016247, 0.0002739897754509002, 0.04081522300839424, 0.015716614201664925, -0.01510055735707283, 0.00749729061499238, -0.02972254529595375, ...]  "
      ]
     },
     "execution_count": 29,
     "metadata": {},
     "output_type": "execute_result"
    }
   ],
   "source": [
    "textembeddings.head().collect()"
   ]
  },
  {
   "cell_type": "code",
   "execution_count": 30,
   "metadata": {},
   "outputs": [],
   "source": [
    "prompt=\"What is BM25?\""
   ]
  },
  {
   "cell_type": "code",
   "execution_count": 31,
   "metadata": {},
   "outputs": [
    {
     "data": {
      "text/html": [
       "<div>\n",
       "<style scoped>\n",
       "    .dataframe tbody tr th:only-of-type {\n",
       "        vertical-align: middle;\n",
       "    }\n",
       "\n",
       "    .dataframe tbody tr th {\n",
       "        vertical-align: top;\n",
       "    }\n",
       "\n",
       "    .dataframe thead th {\n",
       "        text-align: right;\n",
       "    }\n",
       "</style>\n",
       "<table border=\"1\" class=\"dataframe\">\n",
       "  <thead>\n",
       "    <tr style=\"text-align: right;\">\n",
       "      <th></th>\n",
       "      <th>SIMILARITY</th>\n",
       "      <th>DISTANCE</th>\n",
       "      <th>ID</th>\n",
       "      <th>SUB_ID</th>\n",
       "      <th>CONTENT</th>\n",
       "    </tr>\n",
       "  </thead>\n",
       "  <tbody>\n",
       "    <tr>\n",
       "      <th>0</th>\n",
       "      <td>0.656120</td>\n",
       "      <td>0.791497</td>\n",
       "      <td>5</td>\n",
       "      <td>89</td>\n",
       "      <td>## 2.2 BM25\\nThe [BM25](https://help.sap.com/docs/hana-cloud-database/sap-hana-cloud-sap-hana-database-predictive-analysis-library/bm25-search) (Best Matching 25) is an extension of the Binary Independence Model (BIM) and you could invoke a SQL procedure named PAL\\_SEARCH\\_DOCS\\_BY\\_KEYWORDS to use this algorithm. This procedure draws on the TFIDF (Term Frequency-Inverse Document Frequency) values calculated using the [PAL\\_TF\\_ANALYSIS](https://help.sap.com/docs/hana-cloud-database/sap-hana-cloud-sap-hana-database-predictive-analysis-library/term-analysis-term-analysis-0dd1876). These TFIDF values are used to search for documents that closely align with user-provided keywords. Although there are a few variations of BM25 in existence, the one currently implemented is the original version.</td>\n",
       "    </tr>\n",
       "    <tr>\n",
       "      <th>1</th>\n",
       "      <td>0.607794</td>\n",
       "      <td>0.837420</td>\n",
       "      <td>5</td>\n",
       "      <td>83</td>\n",
       "      <td>Simultaneously, BM25, as a representative of sparse information retrieval, optimizes the relevance scoring between documents and queries through its probabilistic framework. BM25 introduces saturation functions and empirically observed parameter adjustments, providing a more nuanced relevance score, which has led to its widespread adoption in search engines for ranking search results.\\nBM25 is renowned for its simplicity and speed in handling large datasets but may struggle with semantic gaps between queries and documents. In contrast, ANN search offers better recall but at the cost of higher computational resources. The choice between BM25 and ANN search hinges on the application's requirements for efficiency, precision, and semantic depth.</td>\n",
       "    </tr>\n",
       "    <tr>\n",
       "      <th>2</th>\n",
       "      <td>0.607242</td>\n",
       "      <td>0.836186</td>\n",
       "      <td>5</td>\n",
       "      <td>97</td>\n",
       "      <td>```\\n## 3.2 BM25\\nIf you wish to use BM25, in the hana-ml Python client , you should call the function [search\\_docs\\_by\\_keywords()](https://help.sap.com/doc/cd94b08fe2e041c2ba778374572ddba9/2024_4_QRC/en-US/text/hana_ml.text.tm.search_docs_by_keywords.html#hana_ml.text.tm.search_docs_by_keywords). For SQL, the corresponding procedure is named PAL\\_SEARCH\\_DOCS\\_BY\\_KEYWORDS.</td>\n",
       "    </tr>\n",
       "    <tr>\n",
       "      <th>3</th>\n",
       "      <td>0.576916</td>\n",
       "      <td>0.880779</td>\n",
       "      <td>1</td>\n",
       "      <td>9</td>\n",
       "      <td>### Keyword-based text search\\nInformation retrieval from text typically starts with text search techniques. A new keyword-based search function [BM25 search](https://help.sap.com/docs/hana-cloud-database/sap-hana-cloud-sap-hana-database-predictive-analysis-library/bm25-search?) (SEARCH\\_DOCS\\_BY\\_KEYWORDS) is provided with the SAP HANA Cloud Predictive Analysis Library (PAL). BM25, is a widely used ranking functions in text search, it estimates the relevance of documents compared to a list of search keywords provided. It builds on top of term-/document-frequencies (TF\\_IDF values).\\n![ChristophMorgen_5-1733594472200.png](/t5/image/serverpage/image-id/199436i118C151CA67C282D/image-size/large?v=v2&amp;px=999 \"ChristophMorgen_5-1733594472200.png\")</td>\n",
       "    </tr>\n",
       "    <tr>\n",
       "      <th>4</th>\n",
       "      <td>0.571052</td>\n",
       "      <td>0.871983</td>\n",
       "      <td>5</td>\n",
       "      <td>85</td>\n",
       "      <td># 2. ANN Search and BM25 in SAP HANA Cloud PAL\\n## 2.1 ANN Search\\nThe [ANN search](https://help.sap.com/docs/hana-cloud-database/sap-hana-cloud-sap-hana-database-predictive-analysis-library/no-content-for-file-anns-md) implementation in PAL leverages the Flat IVF algorithm, which clusters the original vector set and divides the vector space into smaller groups referred to as \"cells\". It then lists the reference of vectors belonging to each cluster for retrieval. KMeans clustering is used to build the vector-cluster references on a given dataset, dividing it into numerous clusters controlled by the parameter \"GROUP\\_NUMBER\". These cluster centers are stored as the Vector-cluster References along with the original datasets into stateful in-memory ANN search model, thereby enabling much faster responses for search predictions.</td>\n",
       "    </tr>\n",
       "    <tr>\n",
       "      <th>...</th>\n",
       "      <td>...</td>\n",
       "      <td>...</td>\n",
       "      <td>...</td>\n",
       "      <td>...</td>\n",
       "      <td>...</td>\n",
       "    </tr>\n",
       "    <tr>\n",
       "      <th>172</th>\n",
       "      <td>0.337545</td>\n",
       "      <td>1.089470</td>\n",
       "      <td>2</td>\n",
       "      <td>31</td>\n",
       "      <td>1. Character splitter : Splits the text based on a predefined number of characters, without considering whether it divides a complete word.\\n2. Recursive splitter (by default) : Operates on a list of separators.\\n3. Document splitter : Uses various methodologies corresponding to different document types (PlainText, HTML) and languages to chunk the data.\\n* GLOBAL\\_LANGUAGE\\_TYPE / language : Options include ‘auto’ (auto detection), ‘en’ (English), ‘zh’ (Chinese), ‘ja’ (Japanese), ‘de’ (German), ‘fr’ (French), ‘es’ (Spanish), ‘pt’ (Portuguese).\\n* GLOBAL\\_SEPARATOR / separator : Determines the separator configurations.</td>\n",
       "    </tr>\n",
       "    <tr>\n",
       "      <th>173</th>\n",
       "      <td>0.335586</td>\n",
       "      <td>1.073745</td>\n",
       "      <td>1</td>\n",
       "      <td>12</td>\n",
       "      <td>and stateful in-memory search models, providing a much faster response in search predictions.</td>\n",
       "    </tr>\n",
       "    <tr>\n",
       "      <th>174</th>\n",
       "      <td>0.332223</td>\n",
       "      <td>1.099501</td>\n",
       "      <td>8</td>\n",
       "      <td>142</td>\n",
       "      <td>of pre-defined dimension using suitable embedding models, hence facilitating the use of text data with structured data for various hybrid prediction analysis tasks.</td>\n",
       "    </tr>\n",
       "    <tr>\n",
       "      <th>175</th>\n",
       "      <td>0.325322</td>\n",
       "      <td>1.080340</td>\n",
       "      <td>9</td>\n",
       "      <td>154</td>\n",
       "      <td>simplifies and democratizes the process of building predictive models, while maintaining the high standards of explainability and ethical AI that SAP is renowned for.</td>\n",
       "    </tr>\n",
       "    <tr>\n",
       "      <th>176</th>\n",
       "      <td>0.296846</td>\n",
       "      <td>1.115631</td>\n",
       "      <td>4</td>\n",
       "      <td>60</td>\n",
       "      <td>the semantic meaning of the original texts, making them less useful in real applications.</td>\n",
       "    </tr>\n",
       "  </tbody>\n",
       "</table>\n",
       "<p>177 rows × 5 columns</p>\n",
       "</div>"
      ],
      "text/plain": [
       "     SIMILARITY  DISTANCE  ID  SUB_ID  \\\n",
       "0      0.656120  0.791497   5      89   \n",
       "1      0.607794  0.837420   5      83   \n",
       "2      0.607242  0.836186   5      97   \n",
       "3      0.576916  0.880779   1       9   \n",
       "4      0.571052  0.871983   5      85   \n",
       "..          ...       ...  ..     ...   \n",
       "172    0.337545  1.089470   2      31   \n",
       "173    0.335586  1.073745   1      12   \n",
       "174    0.332223  1.099501   8     142   \n",
       "175    0.325322  1.080340   9     154   \n",
       "176    0.296846  1.115631   4      60   \n",
       "\n",
       "                                                                                                                                                                                                                                                                                                                                                                                                                                                                                                                                                                                                                                                                                                                                                                                                                                                                  CONTENT  \n",
       "0                                         ## 2.2 BM25\\nThe [BM25](https://help.sap.com/docs/hana-cloud-database/sap-hana-cloud-sap-hana-database-predictive-analysis-library/bm25-search) (Best Matching 25) is an extension of the Binary Independence Model (BIM) and you could invoke a SQL procedure named PAL\\_SEARCH\\_DOCS\\_BY\\_KEYWORDS to use this algorithm. This procedure draws on the TFIDF (Term Frequency-Inverse Document Frequency) values calculated using the [PAL\\_TF\\_ANALYSIS](https://help.sap.com/docs/hana-cloud-database/sap-hana-cloud-sap-hana-database-predictive-analysis-library/term-analysis-term-analysis-0dd1876). These TFIDF values are used to search for documents that closely align with user-provided keywords. Although there are a few variations of BM25 in existence, the one currently implemented is the original version.  \n",
       "1                                                                                         Simultaneously, BM25, as a representative of sparse information retrieval, optimizes the relevance scoring between documents and queries through its probabilistic framework. BM25 introduces saturation functions and empirically observed parameter adjustments, providing a more nuanced relevance score, which has led to its widespread adoption in search engines for ranking search results.\\nBM25 is renowned for its simplicity and speed in handling large datasets but may struggle with semantic gaps between queries and documents. In contrast, ANN search offers better recall but at the cost of higher computational resources. The choice between BM25 and ANN search hinges on the application's requirements for efficiency, precision, and semantic depth.  \n",
       "2                                                                                                                                                                                                                                                                                                                                                                                                                                                                             ```\\n## 3.2 BM25\\nIf you wish to use BM25, in the hana-ml Python client , you should call the function [search\\_docs\\_by\\_keywords()](https://help.sap.com/doc/cd94b08fe2e041c2ba778374572ddba9/2024_4_QRC/en-US/text/hana_ml.text.tm.search_docs_by_keywords.html#hana_ml.text.tm.search_docs_by_keywords). For SQL, the corresponding procedure is named PAL\\_SEARCH\\_DOCS\\_BY\\_KEYWORDS.  \n",
       "3                                                                                         ### Keyword-based text search\\nInformation retrieval from text typically starts with text search techniques. A new keyword-based search function [BM25 search](https://help.sap.com/docs/hana-cloud-database/sap-hana-cloud-sap-hana-database-predictive-analysis-library/bm25-search?) (SEARCH\\_DOCS\\_BY\\_KEYWORDS) is provided with the SAP HANA Cloud Predictive Analysis Library (PAL). BM25, is a widely used ranking functions in text search, it estimates the relevance of documents compared to a list of search keywords provided. It builds on top of term-/document-frequencies (TF\\_IDF values).\\n![ChristophMorgen_5-1733594472200.png](/t5/image/serverpage/image-id/199436i118C151CA67C282D/image-size/large?v=v2&px=999 \"ChristophMorgen_5-1733594472200.png\")  \n",
       "4    # 2. ANN Search and BM25 in SAP HANA Cloud PAL\\n## 2.1 ANN Search\\nThe [ANN search](https://help.sap.com/docs/hana-cloud-database/sap-hana-cloud-sap-hana-database-predictive-analysis-library/no-content-for-file-anns-md) implementation in PAL leverages the Flat IVF algorithm, which clusters the original vector set and divides the vector space into smaller groups referred to as \"cells\". It then lists the reference of vectors belonging to each cluster for retrieval. KMeans clustering is used to build the vector-cluster references on a given dataset, dividing it into numerous clusters controlled by the parameter \"GROUP\\_NUMBER\". These cluster centers are stored as the Vector-cluster References along with the original datasets into stateful in-memory ANN search model, thereby enabling much faster responses for search predictions.  \n",
       "..                                                                                                                                                                                                                                                                                                                                                                                                                                                                                                                                                                                                                                                                                                                                                                                                                                                                    ...  \n",
       "172                                                                                                                                                                                                                     1. Character splitter : Splits the text based on a predefined number of characters, without considering whether it divides a complete word.\\n2. Recursive splitter (by default) : Operates on a list of separators.\\n3. Document splitter : Uses various methodologies corresponding to different document types (PlainText, HTML) and languages to chunk the data.\\n* GLOBAL\\_LANGUAGE\\_TYPE / language : Options include ‘auto’ (auto detection), ‘en’ (English), ‘zh’ (Chinese), ‘ja’ (Japanese), ‘de’ (German), ‘fr’ (French), ‘es’ (Spanish), ‘pt’ (Portuguese).\\n* GLOBAL\\_SEPARATOR / separator : Determines the separator configurations.  \n",
       "173                                                                                                                                                                                                                                                                                                                                                                                                                                                                                                                                                                                                                                                                                                                                                                         and stateful in-memory search models, providing a much faster response in search predictions.  \n",
       "174                                                                                                                                                                                                                                                                                                                                                                                                                                                                                                                                                                                                                                                                                                  of pre-defined dimension using suitable embedding models, hence facilitating the use of text data with structured data for various hybrid prediction analysis tasks.  \n",
       "175                                                                                                                                                                                                                                                                                                                                                                                                                                                                                                                                                                                                                                                                                                simplifies and democratizes the process of building predictive models, while maintaining the high standards of explainability and ethical AI that SAP is renowned for.  \n",
       "176                                                                                                                                                                                                                                                                                                                                                                                                                                                                                                                                                                                                                                                                                                                                                                             the semantic meaning of the original texts, making them less useful in real applications.  \n",
       "\n",
       "[177 rows x 5 columns]"
      ]
     },
     "execution_count": 31,
     "metadata": {},
     "output_type": "execute_result"
    }
   ],
   "source": [
    "myconn.sql(\n",
    "    f\"\"\"SELECT \n",
    "    COSINE_SIMILARITY(VECTOR_EMBEDDING('{prompt}', 'QUERY', 'SAP_NEB.20240715'), \"VECTOR_COL_CONTENT\") AS \"SIMILARITY\", \n",
    "    L2DISTANCE(VECTOR_EMBEDDING('What{prompt}', 'QUERY', 'SAP_NEB.20240715'), \"VECTOR_COL_CONTENT\") AS \"DISTANCE\", \n",
    "    \"ID\", \"SUB_ID\", \"CONTENT\" \n",
    "    FROM ({textembeddings.select_statement})\n",
    "    ORDER BY 1 DESC;\n",
    "    \"\"\"\n",
    ").collect()"
   ]
  }
 ],
 "metadata": {
  "language_info": {
   "name": "python"
  }
 },
 "nbformat": 4,
 "nbformat_minor": 2
}
