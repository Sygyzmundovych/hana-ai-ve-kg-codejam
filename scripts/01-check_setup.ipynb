{
 "cells": [
  {
   "attachments": {},
   "cell_type": "markdown",
   "id": "4bcc6ef9",
   "metadata": {},
   "source": [
    "## Check SAP HANA Client for Python is installed"
   ]
  },
  {
   "cell_type": "code",
   "execution_count": 1,
   "id": "c6866fbf-5ca6-45a5-a234-d0ad3db16545",
   "metadata": {},
   "outputs": [
    {
     "name": "stdout",
     "output_type": "stream",
     "text": [
      "SAP HANA Client for Python: 2.23.25010300\n"
     ]
    }
   ],
   "source": [
    "import hana_ml\n",
    "print(f\"SAP HANA Client for Python: {hana_ml.__version__}\")"
   ]
  },
  {
   "attachments": {},
   "cell_type": "markdown",
   "id": "57d22639",
   "metadata": {},
   "source": [
    "The latest version and its documentation can be checked at https://pypi.org/project/hana-ml/#history"
   ]
  },
  {
   "attachments": {},
   "cell_type": "markdown",
   "id": "bd79a425",
   "metadata": {},
   "source": [
    "## Load the user connection data and connect to the SAP HANA database instance\n",
    "\n",
    "👉🏻 Before running the next cell make sure:\n",
    "\n",
    "1. The file [../.template_env](../.template_env) is copied to [../.env](../.env), and\n",
    "2. the user and the password given to you by the instructor are updated in `.env` file \n",
    "\n",
    "👆🏻\n",
    "\n",
    "👇🏼\n",
    "![Set user](00-setup/img/check_userini02.png)"
   ]
  },
  {
   "cell_type": "code",
   "execution_count": 2,
   "id": "d94aaec7",
   "metadata": {},
   "outputs": [
    {
     "data": {
      "text/plain": [
       "True"
      ]
     },
     "execution_count": 2,
     "metadata": {},
     "output_type": "execute_result"
    }
   ],
   "source": [
    "from dotenv import load_dotenv\n",
    "\n",
    "load_dotenv()  # load environment variables"
   ]
  },
  {
   "cell_type": "code",
   "execution_count": 12,
   "id": "442c848b-c11e-4115-89fe-7336b15681ae",
   "metadata": {},
   "outputs": [
    {
     "name": "stdout",
     "output_type": "stream",
     "text": [
      "Connected to SAP HANA db version 4.00.000.00.1736867381 (fa/CE2024.40) \n",
      "at c5889dd5-e0f6-4930-8408-94d53ca61dbf.hna0.prod-us10.hanacloud.ondemand.com:443 as CODEJAMHANAML40\n"
     ]
    }
   ],
   "source": [
    "import os\n",
    "\n",
    "from hana_ml import dataframe as hdf\n",
    "myconn=hdf.ConnectionContext(\n",
    "    address=os.environ[\"HANADB_URL\"], \n",
    "    port=os.environ[\"HANADB_PRT\"], \n",
    "    user=os.environ[\"HANADB_USR\"],\n",
    "    password=os.environ[\"HANADB_PWD\"]\n",
    ")\n",
    "print(f\"\"\"Connected to SAP HANA db version {myconn.hana_version()} \\nat {myconn.address}:{myconn.port} as {os.environ[\"HANADB_USR\"]}\"\"\")"
   ]
  },
  {
   "attachments": {},
   "cell_type": "markdown",
   "id": "0235f6c2",
   "metadata": {},
   "source": [
    "## Execute an SQL query on SAP HANA database and get the result displayed"
   ]
  },
  {
   "cell_type": "code",
   "execution_count": 13,
   "id": "19475af6-6e12-4fb3-8df9-50ce54de9194",
   "metadata": {},
   "outputs": [
    {
     "name": "stdout",
     "output_type": "stream",
     "text": [
      "Current time on the SAP HANA server: 2025-01-27 13:06:08.591000\n"
     ]
    }
   ],
   "source": [
    "print(f'Current time on the SAP HANA server: {myconn.sql(\"SELECT NOW() FROM DUMMY\").collect().CURRENT_TIMESTAMP[0]}')"
   ]
  },
  {
   "attachments": {},
   "cell_type": "markdown",
   "id": "9bfd54f6",
   "metadata": {},
   "source": [
    "🤓 **Let's discuss**:\n",
    "1. SAP HANA Client: https://help.sap.com/docs/SAP_HANA_CLIENT\n",
    "1. SAP HANA Client's Python driver: https://help.sap.com/docs/SAP_HANA_CLIENT/f1b440ded6144a54ada97ff95dac7adf/f3b8fabf34324302b123297cdbe710f0.html\n",
    "1. Python Machine Learning Client for SAP HANA: https://help.sap.com/doc/cd94b08fe2e041c2ba778374572ddba9/latest/en-US/hana_ml.html "
   ]
  }
 ],
 "metadata": {
  "kernelspec": {
   "display_name": "Python 3 (ipykernel)",
   "language": "python",
   "name": "python3"
  },
  "language_info": {
   "codemirror_mode": {
    "name": "ipython",
    "version": 3
   },
   "file_extension": ".py",
   "mimetype": "text/x-python",
   "name": "python",
   "nbconvert_exporter": "python",
   "pygments_lexer": "ipython3",
   "version": "3.11.2"
  }
 },
 "nbformat": 4,
 "nbformat_minor": 5
}
