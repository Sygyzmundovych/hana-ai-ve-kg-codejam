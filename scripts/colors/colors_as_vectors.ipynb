{
 "cells": [
  {
   "cell_type": "code",
   "execution_count": 1,
   "metadata": {},
   "outputs": [
    {
     "name": "stdout",
     "output_type": "stream",
     "text": [
      "SAP HANA Client for Python: 2.23.25010300\n"
     ]
    }
   ],
   "source": [
    "import hana_ml\n",
    "print(f\"SAP HANA Client for Python: {hana_ml.__version__}\")"
   ]
  },
  {
   "cell_type": "code",
   "execution_count": 2,
   "metadata": {},
   "outputs": [],
   "source": [
    "myhost='62f61f95-95b5-4ec0-a551-90d890eabbdf.hana.trial-us10.hanacloud.ondemand.com'\n",
    "myport=443\n",
    "myuser='DBADMIN'"
   ]
  },
  {
   "cell_type": "code",
   "execution_count": 3,
   "metadata": {},
   "outputs": [
    {
     "name": "stdout",
     "output_type": "stream",
     "text": [
      "Connected to SAP HANA db version 4.00.000.00.1736787327 (fa/CE2024.40) \n",
      "at 62f61f95-95b5-4ec0-a551-90d890eabbdf.hana.trial-us10.hanacloud.ondemand.com:443 as user DBADMIN\n"
     ]
    }
   ],
   "source": [
    "from hana_ml import dataframe as hdf\n",
    "myconn=hdf.ConnectionContext(\n",
    "    address=myhost, \n",
    "    port=myport, \n",
    "    user=myuser\n",
    ")\n",
    "print(f\"Connected to SAP HANA db version {myconn.hana_version()} \\nat {myhost}:{myport} as user {myuser}\")"
   ]
  },
  {
   "cell_type": "code",
   "execution_count": 14,
   "metadata": {},
   "outputs": [
    {
     "name": "stdout",
     "output_type": "stream",
     "text": [
      "       Color_Name  Red  Green  Blue\n",
      "0       aliceblue  240    248   255\n",
      "1    antiquewhite  250    235   215\n",
      "2            aqua    0    255   255\n",
      "3      aquamarine  127    255   212\n",
      "4           azure  240    255   255\n",
      "..            ...  ...    ...   ...\n",
      "142         wheat  245    222   179\n",
      "143         white  255    255   255\n",
      "144    whitesmoke  245    245   245\n",
      "145        yellow  255    255     0\n",
      "146   yellowgreen  154    205    50\n",
      "\n",
      "[147 rows x 4 columns]\n"
     ]
    }
   ],
   "source": [
    "import pandas as pd\n",
    "import webcolors\n",
    "\n",
    "# Generate the list of color names and their RGB values\n",
    "colors_data = [\n",
    "    (wc, *webcolors.name_to_rgb(wc)) \n",
    "    for wc in webcolors.names(spec='css3')\n",
    "]\n",
    "\n",
    "# Create a DataFrame from the list\n",
    "df = pd.DataFrame(colors_data, columns=[\"Color_Name\", \"Red\", \"Green\", \"Blue\"])\n",
    "\n",
    "# Display the DataFrame\n",
    "print(df)\n"
   ]
  },
  {
   "cell_type": "code",
   "execution_count": 15,
   "metadata": {},
   "outputs": [
    {
     "name": "stderr",
     "output_type": "stream",
     "text": [
      "100%|██████████| 1/1 [00:00<00:00, 113.84it/s]\n"
     ]
    }
   ],
   "source": [
    "hdf_colors=hdf.create_dataframe_from_pandas(\n",
    "    connection_context=myconn,\n",
    "    table_name='COLORS',\n",
    "    pandas_df=df,\n",
    "    force=True  # Overwrites the table if it already exists\n",
    ")"
   ]
  },
  {
   "cell_type": "code",
   "execution_count": 18,
   "metadata": {},
   "outputs": [
    {
     "data": {
      "text/html": [
       "<div>\n",
       "<style scoped>\n",
       "    .dataframe tbody tr th:only-of-type {\n",
       "        vertical-align: middle;\n",
       "    }\n",
       "\n",
       "    .dataframe tbody tr th {\n",
       "        vertical-align: top;\n",
       "    }\n",
       "\n",
       "    .dataframe thead th {\n",
       "        text-align: right;\n",
       "    }\n",
       "</style>\n",
       "<table border=\"1\" class=\"dataframe\">\n",
       "  <thead>\n",
       "    <tr style=\"text-align: right;\">\n",
       "      <th></th>\n",
       "      <th>Color_Name</th>\n",
       "      <th>Red</th>\n",
       "      <th>Green</th>\n",
       "      <th>Blue</th>\n",
       "    </tr>\n",
       "  </thead>\n",
       "  <tbody>\n",
       "    <tr>\n",
       "      <th>0</th>\n",
       "      <td>teal</td>\n",
       "      <td>0</td>\n",
       "      <td>128</td>\n",
       "      <td>128</td>\n",
       "    </tr>\n",
       "    <tr>\n",
       "      <th>1</th>\n",
       "      <td>thistle</td>\n",
       "      <td>216</td>\n",
       "      <td>191</td>\n",
       "      <td>216</td>\n",
       "    </tr>\n",
       "    <tr>\n",
       "      <th>2</th>\n",
       "      <td>tomato</td>\n",
       "      <td>255</td>\n",
       "      <td>99</td>\n",
       "      <td>71</td>\n",
       "    </tr>\n",
       "    <tr>\n",
       "      <th>3</th>\n",
       "      <td>turquoise</td>\n",
       "      <td>64</td>\n",
       "      <td>224</td>\n",
       "      <td>208</td>\n",
       "    </tr>\n",
       "    <tr>\n",
       "      <th>4</th>\n",
       "      <td>violet</td>\n",
       "      <td>238</td>\n",
       "      <td>130</td>\n",
       "      <td>238</td>\n",
       "    </tr>\n",
       "    <tr>\n",
       "      <th>5</th>\n",
       "      <td>wheat</td>\n",
       "      <td>245</td>\n",
       "      <td>222</td>\n",
       "      <td>179</td>\n",
       "    </tr>\n",
       "    <tr>\n",
       "      <th>6</th>\n",
       "      <td>white</td>\n",
       "      <td>255</td>\n",
       "      <td>255</td>\n",
       "      <td>255</td>\n",
       "    </tr>\n",
       "    <tr>\n",
       "      <th>7</th>\n",
       "      <td>whitesmoke</td>\n",
       "      <td>245</td>\n",
       "      <td>245</td>\n",
       "      <td>245</td>\n",
       "    </tr>\n",
       "    <tr>\n",
       "      <th>8</th>\n",
       "      <td>yellow</td>\n",
       "      <td>255</td>\n",
       "      <td>255</td>\n",
       "      <td>0</td>\n",
       "    </tr>\n",
       "    <tr>\n",
       "      <th>9</th>\n",
       "      <td>yellowgreen</td>\n",
       "      <td>154</td>\n",
       "      <td>205</td>\n",
       "      <td>50</td>\n",
       "    </tr>\n",
       "  </tbody>\n",
       "</table>\n",
       "</div>"
      ],
      "text/plain": [
       "    Color_Name  Red  Green  Blue\n",
       "0         teal    0    128   128\n",
       "1      thistle  216    191   216\n",
       "2       tomato  255     99    71\n",
       "3    turquoise   64    224   208\n",
       "4       violet  238    130   238\n",
       "5        wheat  245    222   179\n",
       "6        white  255    255   255\n",
       "7   whitesmoke  245    245   245\n",
       "8       yellow  255    255     0\n",
       "9  yellowgreen  154    205    50"
      ]
     },
     "execution_count": 18,
     "metadata": {},
     "output_type": "execute_result"
    }
   ],
   "source": [
    "hdf_colors.tail(10).collect()"
   ]
  },
  {
   "cell_type": "code",
   "execution_count": 20,
   "metadata": {},
   "outputs": [
    {
     "data": {
      "text/html": [
       "<div>\n",
       "<style scoped>\n",
       "    .dataframe tbody tr th:only-of-type {\n",
       "        vertical-align: middle;\n",
       "    }\n",
       "\n",
       "    .dataframe tbody tr th {\n",
       "        vertical-align: top;\n",
       "    }\n",
       "\n",
       "    .dataframe thead th {\n",
       "        text-align: right;\n",
       "    }\n",
       "</style>\n",
       "<table border=\"1\" class=\"dataframe\">\n",
       "  <thead>\n",
       "    <tr style=\"text-align: right;\">\n",
       "      <th></th>\n",
       "      <th>Color_Name</th>\n",
       "      <th>Red</th>\n",
       "      <th>Green</th>\n",
       "      <th>Blue</th>\n",
       "    </tr>\n",
       "  </thead>\n",
       "  <tbody>\n",
       "    <tr>\n",
       "      <th>0</th>\n",
       "      <td>aliceblue</td>\n",
       "      <td>240</td>\n",
       "      <td>248</td>\n",
       "      <td>255</td>\n",
       "    </tr>\n",
       "    <tr>\n",
       "      <th>1</th>\n",
       "      <td>antiquewhite</td>\n",
       "      <td>250</td>\n",
       "      <td>235</td>\n",
       "      <td>215</td>\n",
       "    </tr>\n",
       "    <tr>\n",
       "      <th>2</th>\n",
       "      <td>aqua</td>\n",
       "      <td>0</td>\n",
       "      <td>255</td>\n",
       "      <td>255</td>\n",
       "    </tr>\n",
       "  </tbody>\n",
       "</table>\n",
       "</div>"
      ],
      "text/plain": [
       "     Color_Name  Red  Green  Blue\n",
       "0     aliceblue  240    248   255\n",
       "1  antiquewhite  250    235   215\n",
       "2          aqua    0    255   255"
      ]
     },
     "execution_count": 20,
     "metadata": {},
     "output_type": "execute_result"
    }
   ],
   "source": [
    "myconn.sql('SELECT TOP 3 * FROM COLORS').collect()"
   ]
  },
  {
   "cell_type": "code",
   "execution_count": null,
   "metadata": {},
   "outputs": [],
   "source": []
  }
 ],
 "metadata": {
  "language_info": {
   "name": "python"
  }
 },
 "nbformat": 4,
 "nbformat_minor": 2
}
