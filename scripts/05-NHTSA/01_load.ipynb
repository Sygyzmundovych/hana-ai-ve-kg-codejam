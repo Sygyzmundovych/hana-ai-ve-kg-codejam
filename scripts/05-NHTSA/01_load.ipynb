{
 "cells": [
  {
   "cell_type": "markdown",
   "metadata": {},
   "source": [
    "## Check the setup and connect to the database"
   ]
  },
  {
   "cell_type": "code",
   "execution_count": null,
   "metadata": {},
   "outputs": [],
   "source": [
    "%run \"../01-check_setup.ipynb\""
   ]
  },
  {
   "cell_type": "code",
   "execution_count": null,
   "metadata": {},
   "outputs": [],
   "source": [
    "myconn.get_tables(schema='NHTSA')"
   ]
  },
  {
   "cell_type": "code",
   "execution_count": null,
   "metadata": {},
   "outputs": [],
   "source": [
    "import pandas as pd"
   ]
  },
  {
   "cell_type": "markdown",
   "metadata": {},
   "source": [
    "Loading data from https://www.nhtsa.gov/nhtsa-datasets-and-apis#complaints"
   ]
  },
  {
   "cell_type": "code",
   "execution_count": null,
   "metadata": {},
   "outputs": [],
   "source": [
    "import_df = pd.read_csv('https://static.nhtsa.gov/odi/ffdd/cmpl/COMPLAINTS_RECEIVED_2020-2024.zip', sep='\\t', header=None)\n",
    "import_df.shape"
   ]
  },
  {
   "cell_type": "code",
   "execution_count": null,
   "metadata": {},
   "outputs": [],
   "source": [
    "import_df = pd.read_csv('https://static.nhtsa.gov/odi/ffdd/cmpl/COMPLAINTS_RECEIVED_2025-2025.zip', sep='\\t', header=None)\n",
    "import_df.shape"
   ]
  },
  {
   "cell_type": "code",
   "execution_count": null,
   "metadata": {},
   "outputs": [],
   "source": [
    "import_df.rename(columns={\n",
    "    0: 'CMPLID',\n",
    "    1: 'ODINO',\n",
    "    2: 'MFR_NAME',\n",
    "    3: 'MAKETXT',\n",
    "    4: 'MODELTXT',\n",
    "    5: 'YEARTXT',\n",
    "    6: 'CRASH',\n",
    "    7: 'FAILDATE',\n",
    "    8: 'FIRE',\n",
    "    9: 'INJURED',\n",
    "    10: 'DEATHS',\n",
    "    11: 'COMPDESC',\n",
    "    12: 'CITY',\n",
    "    13: 'STATE',\n",
    "    14: 'VIN',\n",
    "    15: 'DATEA',\n",
    "    16: 'LDATE',\n",
    "    17: 'MILES',\n",
    "    18: 'OCCURENCES',\n",
    "    19: 'CDESCR',\n",
    "    20: 'CMPL_TYPE',\n",
    "    21: 'POLICE_RPT_YN',\n",
    "    22: 'PURCH_DT',\n",
    "    23: 'ORIG_OWNER_YN',\n",
    "    24: 'ANTI_BRAKES_YN',\n",
    "    25: 'CRUISE_CONT_YN',\n",
    "    26: 'NUM_CYLS',\n",
    "    27: 'DRIVE_TRAIN',\n",
    "    28: 'FUEL_SYS',\n",
    "    29: 'FUEL_TYPE',\n",
    "    30: 'TRANS_TYPE',\n",
    "    31: 'VEH_SPEED',\n",
    "    32: 'DOT',\n",
    "    33: 'TIRE_SIZE',\n",
    "    34: 'LOC_OF_TIRE',\n",
    "    35: 'TIRE_FAIL_TYPE',\n",
    "    36: 'ORIG_EQUIP_YN',\n",
    "    37: 'MANUF_DT',\n",
    "    38: 'SEAT_TYPE',\n",
    "    39: 'RESTRAINT_TYPE',\n",
    "    40: 'DEALER_NAME',\n",
    "    41: 'DEALER_TEL',\n",
    "    42: 'DEALER_CITY',\n",
    "    43: 'DEALER_STATE',\n",
    "    44: 'DEALER_ZIP',\n",
    "    45: 'PROD_TYPE',\n",
    "    46: 'REPAIRED_YN',\n",
    "    47: 'MEDICAL_ATTN',\n",
    "    48: 'VEHICLES_TOWED_YN'\n",
    "}, inplace=True)"
   ]
  },
  {
   "cell_type": "code",
   "execution_count": null,
   "metadata": {},
   "outputs": [],
   "source": [
    "# Combine them into a single DataFrame\n",
    "pd.DataFrame({\n",
    "    'Original Dtypes': import_df.dtypes,\n",
    "    'Converted Dtypes': import_df.convert_dtypes().dtypes\n",
    "})"
   ]
  },
  {
   "cell_type": "code",
   "execution_count": null,
   "metadata": {},
   "outputs": [],
   "source": [
    "import_df=import_df.convert_dtypes()"
   ]
  },
  {
   "cell_type": "code",
   "execution_count": null,
   "metadata": {},
   "outputs": [],
   "source": [
    "import_df[import_df['CDESCR'].str.len() > 2048][['CMPLID']].assign(CDESCR_LEN=import_df['CDESCR'].str.len())"
   ]
  },
  {
   "cell_type": "code",
   "execution_count": null,
   "metadata": {},
   "outputs": [],
   "source": [
    "pd.set_option('max_colwidth', None) \n",
    "display(\n",
    "    import_df\n",
    "    .head(1).T\n",
    "    .style.set_properties(subset=[0], **{'text-align': 'left'})\n",
    ")"
   ]
  },
  {
   "cell_type": "code",
   "execution_count": null,
   "metadata": {},
   "outputs": [],
   "source": [
    "carcomplaints_hdf = hana_ml.dataframe.create_dataframe_from_pandas(myconn,\n",
    "                                           import_df[import_df['CDESCR'].str.len() <= 2048],\n",
    "                                            table_name=\"COMPLAINTS\",\n",
    "                                            schema='NHTSA',\n",
    "                                            force=True)"
   ]
  },
  {
   "cell_type": "code",
   "execution_count": null,
   "metadata": {},
   "outputs": [],
   "source": [
    "carcomplaints_hdf.shape"
   ]
  },
  {
   "cell_type": "code",
   "execution_count": null,
   "metadata": {},
   "outputs": [],
   "source": [
    "myconn.get_tables(schema=\"NHTSA\")"
   ]
  },
  {
   "cell_type": "code",
   "execution_count": null,
   "metadata": {},
   "outputs": [],
   "source": [
    "myconn.table(\"COMPLAINTS\", schema='NHTSA').filter(\"LEFT(LDATE,4) = '2024'\").describe().collect().sort_values(by='unique', ascending=True)"
   ]
  },
  {
   "cell_type": "code",
   "execution_count": null,
   "metadata": {},
   "outputs": [],
   "source": []
  }
 ],
 "metadata": {
  "language_info": {
   "name": "python"
  }
 },
 "nbformat": 4,
 "nbformat_minor": 2
}
