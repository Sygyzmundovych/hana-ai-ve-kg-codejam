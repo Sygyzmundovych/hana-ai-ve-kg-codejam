{
 "cells": [
  {
   "cell_type": "markdown",
   "metadata": {},
   "source": [
    "## Check the setup and connect to the database"
   ]
  },
  {
   "cell_type": "code",
   "execution_count": null,
   "metadata": {},
   "outputs": [],
   "source": [
    "%run \"../01-check_setup.ipynb\""
   ]
  },
  {
   "cell_type": "markdown",
   "metadata": {},
   "source": [
    "# Choose tables to experiment with"
   ]
  },
  {
   "cell_type": "code",
   "execution_count": null,
   "metadata": {},
   "outputs": [],
   "source": [
    "myconn.get_tables(schema=\"COLORS\")"
   ]
  },
  {
   "cell_type": "code",
   "execution_count": null,
   "metadata": {},
   "outputs": [],
   "source": [
    "spec = 'CSS3'\n",
    "hdf_colors=myconn.table(f'COLORS_{spec}', schema=\"COLORS\")\n",
    "print(hdf_colors.select_statement)"
   ]
  },
  {
   "cell_type": "code",
   "execution_count": null,
   "metadata": {},
   "outputs": [],
   "source": [
    "hdf_colors.tail(3).collect()"
   ]
  },
  {
   "cell_type": "code",
   "execution_count": null,
   "metadata": {},
   "outputs": [],
   "source": [
    "reference_color='white'\n",
    "\n",
    "sql_statement=f'''\n",
    "    WITH \"SINGLE_COLOR\" AS (SELECT TO_REAL_VECTOR(ARRAY(\"Red\",\"Green\",\"Blue\")) AS \"Ref_Color\" FROM ({hdf_colors.select_statement}) WHERE \"Color_Name\"='{reference_color}')\n",
    "    SELECT TOP 1000\n",
    "        \"Color_Name\",\n",
    "        \"Red\",\n",
    "        \"Green\",\n",
    "        \"Blue\",\n",
    "        ROUND(L2DISTANCE(TO_REAL_VECTOR(ARRAY(\"Red\",\"Green\",\"Blue\")), \"Ref_Color\"), 2) AS \"L2Dist\",\n",
    "        ROUND(COSINE_SIMILARITY(TO_REAL_VECTOR(ARRAY(\"Red\",\"Green\",\"Blue\")), \"Ref_Color\"), 2) AS \"CosSim\"\n",
    "    FROM ({hdf_colors.select_statement}) AS \"A\", \"SINGLE_COLOR\"\n",
    "    WHERE \"Color_Name\" <> 'black'\n",
    "    ORDER BY \"L2Dist\", \"CosSim\" DESC ;\n",
    "    '''\n",
    "#print(sql_statement)\n",
    "\n",
    "(df_colors := \n",
    "    (myconn.sql(sql_statement).collect()\n",
    ")).__len__()"
   ]
  },
  {
   "cell_type": "code",
   "execution_count": 37,
   "metadata": {},
   "outputs": [],
   "source": [
    "\n",
    "def color_row(row):\n",
    "    color_name = row[\"Color_Name\"]\n",
    "    # Add cell background color based on the color name\n",
    "    return [f\"background-color: {color_name}\" for _ in row]"
   ]
  },
  {
   "cell_type": "code",
   "execution_count": null,
   "metadata": {},
   "outputs": [],
   "source": [
    "df_colors.style.apply(color_row, axis=1)"
   ]
  },
  {
   "cell_type": "code",
   "execution_count": null,
   "metadata": {},
   "outputs": [],
   "source": [
    "import pandas as pd\n",
    "import numpy as np\n",
    "import plotly.express as px\n",
    "\n",
    "# Select 5 random rows\n",
    "df_sample = df_colors.sample(5, random_state=0)\n",
    "\n",
    "# df_sample = df_colors[:6]\n",
    "\n",
    "# Create a 3D scatter plot with Plotly\n",
    "fig = px.scatter_3d(\n",
    "    df_sample, \n",
    "    x='Red', \n",
    "    y='Green', \n",
    "    z='Blue', \n",
    "    text='Color_Name',\n",
    "    #color=df_sample.apply(lambda row: f'rgb({row.Red},{row.Green},{row.Blue})', axis=1)\n",
    ")\n",
    "\n",
    "# Update layout\n",
    "fig.update_traces(marker=dict(size=8, opacity=0.8, \n",
    "                              color=df_sample[['Red', 'Green', 'Blue']].values / 255))\n",
    "fig.update_layout(\n",
    "    title=\"3D RGB Color Distribution\", \n",
    "    scene=dict(\n",
    "        xaxis_title='Red', \n",
    "        yaxis_title='Green', \n",
    "        zaxis_title='Blue',\n",
    "        xaxis=dict(range=[0, 256]),\n",
    "        yaxis=dict(range=[0, 256]),\n",
    "        zaxis=dict(range=[0, 256])\n",
    "    ),\n",
    "    width=800,  # Set width to increase size\n",
    "    height=600   # Set height to increase size\n",
    ")\n",
    "\n",
    "# Show figure\n",
    "fig.show()\n"
   ]
  }
 ],
 "metadata": {
  "language_info": {
   "name": "python"
  }
 },
 "nbformat": 4,
 "nbformat_minor": 2
}
