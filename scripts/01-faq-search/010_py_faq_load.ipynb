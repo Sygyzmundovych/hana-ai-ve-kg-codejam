{
 "cells": [
  {
   "cell_type": "code",
   "execution_count": null,
   "metadata": {},
   "outputs": [],
   "source": [
    "%run \"../01-check_setup.ipynb\""
   ]
  },
  {
   "cell_type": "code",
   "execution_count": null,
   "metadata": {},
   "outputs": [],
   "source": [
    "import requests, os\n",
    "\n",
    "os.environ[\"USER_AGENT\"] = f\"{requests.get('https://httpbin.org/user-agent').json()['user-agent']}\"\n",
    "os.environ[\"USER_AGENT\"]"
   ]
  },
  {
   "cell_type": "code",
   "execution_count": null,
   "metadata": {},
   "outputs": [],
   "source": [
    "import zipfile\n",
    "import requests\n",
    "from io import BytesIO\n",
    "\n",
    "# URL of the zipped file\n",
    "zip_url = \"https://docs.python.org/3/archives/python-3.13-docs-text.zip\"\n",
    "\n",
    "# Download the zipped file\n",
    "response = requests.get(zip_url)\n",
    "zip_file = BytesIO(response.content)\n"
   ]
  },
  {
   "cell_type": "code",
   "execution_count": null,
   "metadata": {},
   "outputs": [],
   "source": [
    "\n",
    "# Load documents from the zipped file\n",
    "documents_from_zip = []\n",
    "with zipfile.ZipFile(zip_file, 'r') as z:\n",
    "    for file_name in z.namelist():\n",
    "        if not z.getinfo(file_name).is_dir():\n",
    "            with z.open(file_name) as f:\n",
    "                documents_from_zip.append({'metadata': {'file_name': file_name}, 'content': f.read().decode('utf-8')})\n",
    "\n",
    "# Check the number of documents loaded\n",
    "print(f\"Number of documents loaded: {len(documents_from_zip)}\")"
   ]
  },
  {
   "cell_type": "code",
   "execution_count": null,
   "metadata": {},
   "outputs": [],
   "source": [
    "## Select only records where file_name contains '/faq/'\n",
    "faq_documents = [doc for doc in documents_from_zip if '/faq/' in doc['metadata']['file_name']]  \n",
    "print(f\"Number of FAQ documents: {len(faq_documents)}\")"
   ]
  },
  {
   "cell_type": "code",
   "execution_count": null,
   "metadata": {},
   "outputs": [],
   "source": [
    "print(faq_documents[2]['content'])"
   ]
  },
  {
   "cell_type": "code",
   "execution_count": null,
   "metadata": {},
   "outputs": [],
   "source": [
    "import pandas as pd\n",
    "\n",
    "## Convert faq_documents to a DataFrame `df_faq`\n",
    "df_faq = pd.DataFrame(faq_documents)\n"
   ]
  },
  {
   "cell_type": "code",
   "execution_count": null,
   "metadata": {},
   "outputs": [],
   "source": [
    "import markdown\n",
    "from IPython.display import HTML\n",
    "\n",
    "# Convert Markdown to HTML\n",
    "html = markdown.markdown(df_faq['content'][0])\n",
    "\n",
    "display(HTML(html))\n"
   ]
  },
  {
   "cell_type": "code",
   "execution_count": null,
   "metadata": {},
   "outputs": [],
   "source": [
    "# Convert column metadata of df_faq to string\n",
    "df_faq['metadata'] = df_faq['metadata'].astype(str)\n",
    "df_faq['content_html'] = df_faq['content'].apply(markdown.markdown)"
   ]
  },
  {
   "cell_type": "code",
   "execution_count": null,
   "metadata": {},
   "outputs": [],
   "source": [
    "display(df_faq.dtypes)\n",
    "df_faq=df_faq.convert_dtypes()\n",
    "display(df_faq.dtypes)"
   ]
  },
  {
   "cell_type": "code",
   "execution_count": null,
   "metadata": {},
   "outputs": [],
   "source": [
    "hana_table_name=\"FAQ\""
   ]
  },
  {
   "cell_type": "code",
   "execution_count": null,
   "metadata": {},
   "outputs": [],
   "source": [
    "## Create a table in SAP HANA from `df_faq`\n",
    "from hana_ml.dataframe import create_dataframe_from_pandas\n",
    "hdf_faq_bronze = create_dataframe_from_pandas(connection_context=myconn, \n",
    "                                              pandas_df=df_faq, \n",
    "                                              table_name=hana_table_name, \n",
    "                                              force=True,\n",
    "                                              object_type_as_bin=True,\n",
    "                                              table_structure={'metadata': 'NVARCHAR(5000)' ,\n",
    "                                                               'content': 'NCLOB', 'content_html': 'NCLOB'}\n",
    "                                              )"
   ]
  },
  {
   "cell_type": "code",
   "execution_count": null,
   "metadata": {},
   "outputs": [],
   "source": [
    "import pandas as pd\n",
    "pd.set_option('max_colwidth', 256) \n",
    "\n",
    "hdf_faq_bronze.head().collect().T"
   ]
  }
 ],
 "metadata": {
  "kernelspec": {
   "display_name": "env",
   "language": "python",
   "name": "python3"
  },
  "language_info": {
   "codemirror_mode": {
    "name": "ipython",
    "version": 3
   },
   "file_extension": ".py",
   "mimetype": "text/x-python",
   "name": "python",
   "nbconvert_exporter": "python",
   "pygments_lexer": "ipython3",
   "version": "3.13.2"
  }
 },
 "nbformat": 4,
 "nbformat_minor": 2
}
