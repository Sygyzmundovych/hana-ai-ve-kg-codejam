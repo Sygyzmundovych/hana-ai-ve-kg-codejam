{
 "cells": [
  {
   "attachments": {},
   "cell_type": "markdown",
   "id": "4bcc6ef9",
   "metadata": {},
   "source": [
    "## Check SAP HANA Client for Python is installed"
   ]
  },
  {
   "cell_type": "code",
   "execution_count": null,
   "id": "c6866fbf-5ca6-45a5-a234-d0ad3db16545",
   "metadata": {},
   "outputs": [],
   "source": [
    "import hana_ml\n",
    "print(f\"SAP HANA Client for Python: {hana_ml.__version__}\")"
   ]
  },
  {
   "attachments": {},
   "cell_type": "markdown",
   "id": "57d22639",
   "metadata": {},
   "source": [
    "The latest version and its documentation can be checked at https://pypi.org/project/hana-ml/#history"
   ]
  },
  {
   "attachments": {},
   "cell_type": "markdown",
   "id": "bd79a425",
   "metadata": {},
   "source": [
    "## Load the user connection data and connect to the SAP HANA database instance\n",
    "\n",
    "👉🏻 Before running the next cell make sure:\n",
    "\n",
    "1. The file [../.template_env](../.template_env) is copied to [../.env](../.env), and\n",
    "2. the user and the password given to you by the instructor are updated in `.env` file \n",
    "\n",
    "👆🏻\n",
    "\n",
    "👇🏼\n",
    "![Set user](../scripts/00-setup/img/check_userini03.png)"
   ]
  },
  {
   "cell_type": "code",
   "execution_count": null,
   "id": "d94aaec7",
   "metadata": {},
   "outputs": [],
   "source": [
    "import sys, importlib, os, dotenv\n",
    "from dotenv import load_dotenv\n",
    "load_dotenv(override=True)\n",
    "\n",
    "if not load_dotenv():\n",
    "    sys.exit(\"The environment init file is not found\")"
   ]
  },
  {
   "cell_type": "code",
   "execution_count": null,
   "id": "442c848b-c11e-4115-89fe-7336b15681ae",
   "metadata": {},
   "outputs": [],
   "source": [
    "import os\n",
    "\n",
    "from hana_ml import dataframe as hdf\n",
    "myconn=hdf.ConnectionContext(\n",
    "    address=os.environ[\"HANADB_URL\"], \n",
    "    port=os.environ[\"HANADB_PRT\"], \n",
    "    user=os.environ[\"HANADB_USR\"],\n",
    "    password=os.environ[\"HANADB_PWD\"]\n",
    ")\n",
    "print(f\"\"\"Connected to SAP HANA db version {myconn.hana_version()} \\nat {myconn.address}:{myconn.port} as {os.environ[\"HANADB_USR\"]}\"\"\")"
   ]
  },
  {
   "attachments": {},
   "cell_type": "markdown",
   "id": "0235f6c2",
   "metadata": {},
   "source": [
    "## Execute an SQL query on SAP HANA database and get the result displayed"
   ]
  },
  {
   "cell_type": "code",
   "execution_count": null,
   "id": "19475af6-6e12-4fb3-8df9-50ce54de9194",
   "metadata": {},
   "outputs": [],
   "source": [
    "print(f'Current time on the SAP HANA server: {myconn.sql(\"SELECT NOW() FROM DUMMY\").collect().CURRENT_TIMESTAMP[0]}')"
   ]
  },
  {
   "attachments": {},
   "cell_type": "markdown",
   "id": "9bfd54f6",
   "metadata": {},
   "source": [
    "🤓 **Let's discuss**:\n",
    "1. SAP HANA Client: https://help.sap.com/docs/SAP_HANA_CLIENT\n",
    "1. SAP HANA Client's Python driver: https://help.sap.com/docs/SAP_HANA_CLIENT/f1b440ded6144a54ada97ff95dac7adf/f3b8fabf34324302b123297cdbe710f0.html\n",
    "1. Python Machine Learning Client for SAP HANA: https://help.sap.com/doc/cd94b08fe2e041c2ba778374572ddba9/latest/en-US/hana_ml.html "
   ]
  }
 ],
 "metadata": {
  "kernelspec": {
   "display_name": "env",
   "language": "python",
   "name": "python3"
  },
  "language_info": {
   "codemirror_mode": {
    "name": "ipython",
    "version": 3
   },
   "file_extension": ".py",
   "mimetype": "text/x-python",
   "name": "python",
   "nbconvert_exporter": "python",
   "pygments_lexer": "ipython3",
   "version": "3.13.1"
  }
 },
 "nbformat": 4,
 "nbformat_minor": 5
}
