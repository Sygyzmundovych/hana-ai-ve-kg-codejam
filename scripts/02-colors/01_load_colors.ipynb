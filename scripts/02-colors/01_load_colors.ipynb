{
 "cells": [
  {
   "cell_type": "markdown",
   "metadata": {},
   "source": [
    "## Check the setup and connect to the database"
   ]
  },
  {
   "cell_type": "code",
   "execution_count": null,
   "metadata": {},
   "outputs": [],
   "source": [
    "%run \"../01-check_setup.ipynb\""
   ]
  },
  {
   "cell_type": "markdown",
   "metadata": {},
   "source": [
    "# Load Colors Data\n",
    "\n",
    "## Generate colors"
   ]
  },
  {
   "cell_type": "code",
   "execution_count": null,
   "metadata": {},
   "outputs": [],
   "source": [
    "import pandas as pd\n",
    "import webcolors\n",
    "\n",
    "specs=[webcolors.HTML4, webcolors.CSS2, webcolors.CSS21, webcolors.CSS3]\n"
   ]
  },
  {
   "cell_type": "code",
   "execution_count": null,
   "metadata": {},
   "outputs": [],
   "source": [
    "for spec in specs:\n",
    "    # Display the `spec`\n",
    "    print(spec)\n",
    "    \n",
    "    # Generate the list of color names and their RGB values\n",
    "    colors_data = [\n",
    "        (wc, *webcolors.name_to_rgb(wc)) \n",
    "        for wc in webcolors.names(spec=spec)\n",
    "    ]\n",
    "\n",
    "    # Create a DataFrame from the list\n",
    "    df = pd.DataFrame(colors_data, columns=[\"Color_Name\", \"Red\", \"Green\", \"Blue\"])\n",
    "\n",
    "    hdf_colors=hdf.create_dataframe_from_pandas(\n",
    "        connection_context=myconn,\n",
    "        table_name=f'COLORS_{spec.upper()}',\n",
    "        schema='COLORS',\n",
    "        pandas_df=df,\n",
    "        force=True  # Overwrites the table if it already exists\n",
    "    )\n"
   ]
  },
  {
   "cell_type": "code",
   "execution_count": null,
   "metadata": {},
   "outputs": [],
   "source": [
    "myconn.get_tables(schema=\"COLORS\")"
   ]
  }
 ],
 "metadata": {
  "language_info": {
   "name": "python"
  }
 },
 "nbformat": 4,
 "nbformat_minor": 2
}
