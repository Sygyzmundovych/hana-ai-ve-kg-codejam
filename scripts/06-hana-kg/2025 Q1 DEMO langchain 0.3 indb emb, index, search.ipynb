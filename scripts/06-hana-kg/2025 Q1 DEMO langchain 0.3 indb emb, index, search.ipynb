{
 "cells": [
  {
   "cell_type": "markdown",
   "metadata": {},
   "source": [
    "20250318 new LC features\n",
    "running on FOR and LC_INTEGRATION"
   ]
  },
  {
   "cell_type": "code",
   "execution_count": 1,
   "metadata": {},
   "outputs": [],
   "source": [
    "# connect to HANA\n",
    "from hana_ml.dataframe import ConnectionContext\n",
    "cc = ConnectionContext(userkey='FOR_DEMO')"
   ]
  },
  {
   "cell_type": "code",
   "execution_count": 16,
   "metadata": {},
   "outputs": [],
   "source": [
    "# clean up\n",
    "schema_name = \"LC3_DEMO\"\n",
    "\n",
    "try:\n",
    "    cur = cc.connection.cursor()\n",
    "    cur.execute(f''' DROP SCHEMA {schema_name} CASCADE ''')\n",
    "except:\n",
    "    pass\n",
    "finally:\n",
    "    cur.execute(f''' CREATE SCHEMA {schema_name} ''') \n",
    "    cur.execute(f''' SET SCHEMA {schema_name} ''') \n",
    "    cur.close()"
   ]
  },
  {
   "cell_type": "code",
   "execution_count": 17,
   "metadata": {},
   "outputs": [
    {
     "data": {
      "text/plain": [
       "True"
      ]
     },
     "execution_count": 17,
     "metadata": {},
     "output_type": "execute_result"
    }
   ],
   "source": [
    "# create a custom table that can be used as LangChain Vector Store\n",
    "table_name = \"CUSTOM_TABLE\"\n",
    "\n",
    "cc.connection.cursor().execute(\n",
    "    (\n",
    "        f'''CREATE TABLE {table_name} ('''\n",
    "        ''' \"MY_TEXT\" NVARCHAR(5000), '''\n",
    "        ''' \"MY_METADATA\" NVARCHAR(5000), '''\n",
    "        ''' \"MY_VECTOR\" REAL_VECTOR(768), '''\n",
    "        ''' \"title\" NVARCHAR(5000), '''\n",
    "        ''' \"year\" INTEGER,'''\n",
    "        ''' \"tagline\" NCLOB)'''\n",
    "    )\n",
    ")"
   ]
  },
  {
   "cell_type": "code",
   "execution_count": 18,
   "metadata": {},
   "outputs": [],
   "source": [
    "import langchain\n",
    "import langchain_community\n",
    "# the HanaDB vector store used to be in the langchain_community package: langchain_community.vectorstores.hanavector\n",
    "# and is now moved to a separate package: langchain_hana\n",
    "# https://github.com/SAP/langchain-integration-for-sap-hana-cloud\n",
    "import langchain_hana"
   ]
  },
  {
   "cell_type": "code",
   "execution_count": 19,
   "metadata": {},
   "outputs": [
    {
     "name": "stdout",
     "output_type": "stream",
     "text": [
      "langchain version: 0.3.19\n",
      "langchain_community version: 0.3.18\n",
      "langchain_hana version: 0.1.0\n"
     ]
    }
   ],
   "source": [
    "print('langchain version:', langchain.__version__)\n",
    "print('langchain_community version:', langchain_community.__version__)\n",
    "print('langchain_hana version:', langchain_hana.__version__)\n"
   ]
  },
  {
   "cell_type": "markdown",
   "metadata": {},
   "source": [
    "---\n",
    "SAP HANA QRC4 2024: in-database embeddings<br>\n",
    "also supported in LangChain"
   ]
  },
  {
   "cell_type": "code",
   "execution_count": 20,
   "metadata": {},
   "outputs": [],
   "source": [
    "# instead of using an external embedding model, e.g. OpenAIEmbeddings, for a LangChain Vector Store\n",
    "# we use the SAP HANA Cloud in-database embedding model\n",
    "# see https://help.sap.com/docs/hana-cloud-database/sap-hana-cloud-sap-hana-database-vector-engine-guide/creating-text-embeddings-in-sap-hana-cloud\n",
    "from langchain_hana import HanaInternalEmbeddings\n",
    "\n",
    "internal_embeddings  = HanaInternalEmbeddings(internal_embedding_model_id=\"SAP_NEB.20240715\")"
   ]
  },
  {
   "cell_type": "code",
   "execution_count": 21,
   "metadata": {},
   "outputs": [],
   "source": [
    "# we have created a HANA table upfront, now let's put a LangChain Vector Store on top\n",
    "# to use custom columns in LangChain Vector Store, the columns need to be enumerated\n",
    "from langchain_hana import HanaDB\n",
    "\n",
    "lc_vs = HanaDB(\n",
    "    embedding=internal_embeddings,\n",
    "    connection=cc.connection, \n",
    "    table_name=table_name,\n",
    "    content_column = \"MY_TEXT\",\n",
    "    metadata_column = \"MY_METADATA\",\n",
    "    vector_column = \"MY_VECTOR\",\n",
    "    specific_metadata_columns = [\"title\",\"year\",\"tagline\"]\n",
    ")"
   ]
  },
  {
   "cell_type": "code",
   "execution_count": 22,
   "metadata": {},
   "outputs": [],
   "source": [
    "# create some documents which we can insert into the Vector Store\n",
    "from langchain.docstore.document import Document\n",
    "\n",
    "docs = [\n",
    "    Document(\n",
    "        page_content = '''Barbie (\"Stereotypical Barbie\") and fellow dolls reside in Barbieland, a matriarchal society populated by different versions of Barbies, Kens, and a group of discontinued models who are treated like outcasts due to their unconventional traits. While the Kens spend their days playing at the beach, considering it their profession, the Barbies hold prestigious jobs in law, science, politics, and so on. Ken (\"Beach Ken\") is only happy when he is with Barbie, and seeks a closer relationship with her, but she rebuffs him in favor of other activities and female friendships.''',\n",
    "        metadata={\"title\": \"Barbie\", \"year\": 2023, \"tagline\": \"Barbie and Ken in the real world\"},\n",
    "    ),\n",
    "    Document(\n",
    "        page_content = '''In Los Angeles, Paula Powers (Nancy Morgan) wealthy parents, Bigby (Barry Cahill) and Priscilla Powers (Elizabeth Rogers), want her to marry Collins Hedgeworth (Paul Linke), whom they refer to as her fiance, and also hails from a wealthy family. Paula is really in love with classmate Sam Freeman (Ron Howard), an environmental research major, however, her father dismisses him as a \"fortune hunter,\" which they dispute. Bigby yells at Sam to leave, and while he tries to defend himself, Paula tells him to go wait for her outside. Bigby tells Paula that he is running for governor and wants her to cooperate. However, Paula dismisses Collins as a \"flake,\" and tells her parents that she won't marry him and will elope with Sam to Las Vegas. Bigby threatens to disinherit her and take away her sports car (that she had bought with her own money) if she disobeys him. Paula goes to her room and escapes through the window, stealing her parents, Rolls-Royce Silver Cloud and hitting the road with Sam, beginning a wild explosive car chase and race towards Las Vegas. Bigby calls his associate Ned Slinker (played by Ron Howard's real-life father Rance), asking him to bring back Paula and the Rolls-Royce, and to have Sam incarcerated, without involvement of police and news media. Priscilla gets a call from Collins, who is currently in a stable playing polo, and tells him Paula ran off. Enraged, Collins smashes the phone and takes off in his car. After crashing it, he steals another car from a nearby dealership to continue the chase. His mother Vivian (Marion Ross, Ron Howard's co-star on Happy Days), after being informed of it by the police, decides to go after him herself before the police could arrest him.''',\n",
    "        metadata={\"title\": \"Grand Theft Auto\", \"year\": 1977, \"tagline\": \"Cars and automobiles all over\"},\n",
    "    ),\n",
    "]\n",
    "\n",
    "lc_vs.add_documents(docs)"
   ]
  },
  {
   "cell_type": "code",
   "execution_count": 23,
   "metadata": {},
   "outputs": [
    {
     "data": {
      "text/html": [
       "<div>\n",
       "<style scoped>\n",
       "    .dataframe tbody tr th:only-of-type {\n",
       "        vertical-align: middle;\n",
       "    }\n",
       "\n",
       "    .dataframe tbody tr th {\n",
       "        vertical-align: top;\n",
       "    }\n",
       "\n",
       "    .dataframe thead th {\n",
       "        text-align: right;\n",
       "    }\n",
       "</style>\n",
       "<table border=\"1\" class=\"dataframe\">\n",
       "  <thead>\n",
       "    <tr style=\"text-align: right;\">\n",
       "      <th></th>\n",
       "      <th>MY_TEXT</th>\n",
       "      <th>MY_METADATA</th>\n",
       "      <th>MY_VECTOR</th>\n",
       "      <th>title</th>\n",
       "      <th>year</th>\n",
       "      <th>tagline</th>\n",
       "    </tr>\n",
       "  </thead>\n",
       "  <tbody>\n",
       "    <tr>\n",
       "      <th>0</th>\n",
       "      <td>Barbie (\"Stereotypical Barbie\") and fellow dol...</td>\n",
       "      <td>{\"title\": \"Barbie\", \"year\": 2023, \"tagline\": \"...</td>\n",
       "      <td>[-0.02645867131650448, -0.0883205458521843, 0....</td>\n",
       "      <td>Barbie</td>\n",
       "      <td>2023</td>\n",
       "      <td>Barbie and Ken in the real world</td>\n",
       "    </tr>\n",
       "    <tr>\n",
       "      <th>1</th>\n",
       "      <td>In Los Angeles, Paula Powers (Nancy Morgan) we...</td>\n",
       "      <td>{\"title\": \"Grand Theft Auto\", \"year\": 1977, \"t...</td>\n",
       "      <td>[-0.08580755442380905, -0.05913298949599266, 0...</td>\n",
       "      <td>Grand Theft Auto</td>\n",
       "      <td>1977</td>\n",
       "      <td>Cars and automobiles all over</td>\n",
       "    </tr>\n",
       "  </tbody>\n",
       "</table>\n",
       "</div>"
      ],
      "text/plain": [
       "                                             MY_TEXT  \\\n",
       "0  Barbie (\"Stereotypical Barbie\") and fellow dol...   \n",
       "1  In Los Angeles, Paula Powers (Nancy Morgan) we...   \n",
       "\n",
       "                                         MY_METADATA  \\\n",
       "0  {\"title\": \"Barbie\", \"year\": 2023, \"tagline\": \"...   \n",
       "1  {\"title\": \"Grand Theft Auto\", \"year\": 1977, \"t...   \n",
       "\n",
       "                                           MY_VECTOR             title  year  \\\n",
       "0  [-0.02645867131650448, -0.0883205458521843, 0....            Barbie  2023   \n",
       "1  [-0.08580755442380905, -0.05913298949599266, 0...  Grand Theft Auto  1977   \n",
       "\n",
       "                            tagline  \n",
       "0  Barbie and Ken in the real world  \n",
       "1     Cars and automobiles all over  "
      ]
     },
     "execution_count": 23,
     "metadata": {},
     "output_type": "execute_result"
    }
   ],
   "source": [
    "# let's check the table's content. The content in column MY_VECTOR is created by the in-database embedding function\n",
    "hdf = cc.sql(f''' SELECT * FROM {table_name} ''')\n",
    "df = hdf.head(5).collect()\n",
    "df"
   ]
  },
  {
   "cell_type": "markdown",
   "metadata": {},
   "source": [
    "---\n",
    "SAP HANA supports full-text search<br>\n",
    "this is also supported in LangChain"
   ]
  },
  {
   "cell_type": "code",
   "execution_count": 25,
   "metadata": {},
   "outputs": [
    {
     "name": "stdout",
     "output_type": "stream",
     "text": [
      "(' WHERE SCORE(? IN (\"tagline\" EXACT SEARCH MODE \\'text\\')) > 0', ['ken and barbie'])\n",
      "--------------------------------------------------------------------------------\n",
      "{'title': 'Barbie', 'year': 2023, 'tagline': 'Barbie and Ken in the real world'}\n",
      "Barbie (\"Stereotypical Barbie\") and fellow dolls reside in Barbieland, a matriarchal society populated by different versions of Barbies, Kens, and a group of discontinued models who are treated like outcasts due to their unconventional traits. While the Kens spend their days playing at the beach, considering it their profession, the Barbies hold prestigious jobs in law, science, politics, and so on. Ken (\"Beach Ken\") is only happy when he is with Barbie, and seeks a closer relationship with her, but she rebuffs him in favor of other activities and female friendships.\n"
     ]
    }
   ],
   "source": [
    "# query contains a natural language text string which is used in semantic/similarity search\n",
    "query = \"a film about dolls and society\"\n",
    "\n",
    "# additional filter expressions are translated to a SQL WHERE clause\n",
    "filter = {}\n",
    "# filter = {\"title\": \"Barbie\", \"year\": {\"$gt\": 2022}}\n",
    "# filter = {\"MY_TEXT\": {\"$contains\": 'family wealthy rolls royce'}} #full-text search via contains\n",
    "filter = {\"tagline\": {\"$contains\": 'ken and barbie'}} #full-text search via contains\n",
    "\n",
    "res = lc_vs.similarity_search(query=query, k=4, filter=filter)\n",
    "\n",
    "print(lc_vs._create_where_by_filter(filter))\n",
    "\n",
    "for doc in res:\n",
    "    print(\"-\" * 80)\n",
    "    print(doc.metadata)\n",
    "    print(doc.page_content)\n",
    "    "
   ]
  },
  {
   "cell_type": "code",
   "execution_count": 26,
   "metadata": {},
   "outputs": [
    {
     "data": {
      "text/plain": [
       "True"
      ]
     },
     "execution_count": 26,
     "metadata": {},
     "output_type": "execute_result"
    }
   ],
   "source": [
    "# to speed up full-text search, add a fuzzy index\n",
    "cc.connection.cursor().execute(\n",
    "    (\n",
    "        f'''CREATE FUZZY SEARCH INDEX FUZZYSEARCH_{schema_name}_{table_name}_TEXT_IDX ON {schema_name}.{table_name}(\"MY_TEXT\") SEARCH MODE TEXT'''\n",
    "    )\n",
    ")"
   ]
  },
  {
   "cell_type": "markdown",
   "metadata": {},
   "source": [
    "---\n",
    "SAP HANA Cloud QRC3 2024: HNSW vector index<br>\n",
    "The HNSW index speeds up (approximate) nearest neighbor searches<br>\n",
    "Add an index if you search over more than 1Mio vectors and require less than 1s query runtime<br>\n",
    "Also suported in LangChain\n"
   ]
  },
  {
   "cell_type": "code",
   "execution_count": 55,
   "metadata": {},
   "outputs": [],
   "source": [
    "lc_vs.create_hnsw_index(\n",
    "    m=64,  # Max number of neighbors per graph node (valid range: 4 to 1000)\n",
    "    ef_construction=128,  # Max number of candidates during graph construction (valid range: 1 to 100000)\n",
    "    ef_search=200,  # Min number of candidates during the search (valid range: 1 to 100000)\n",
    ")"
   ]
  },
  {
   "cell_type": "markdown",
   "metadata": {},
   "source": [
    "---\n",
    "LangChain \"self query retriever\""
   ]
  },
  {
   "cell_type": "code",
   "execution_count": 27,
   "metadata": {},
   "outputs": [],
   "source": [
    "from langchain.chains.query_constructor.base import AttributeInfo\n",
    "from langchain.retrievers.self_query.base import SelfQueryRetriever\n",
    "from langchain_hana.query_constructors import HanaTranslator\n",
    "\n",
    "from gen_ai_hub.proxy.langchain.openai import ChatOpenAI\n",
    "llm = ChatOpenAI(proxy_model_name='gpt-4o', temperature=0)"
   ]
  },
  {
   "cell_type": "code",
   "execution_count": 28,
   "metadata": {},
   "outputs": [],
   "source": [
    "# we need to describe the vector store table and its columns\n",
    "metadata_field_info = [\n",
    "    AttributeInfo(\n",
    "        name=\"title\",\n",
    "        description=\"The title of the movie\",\n",
    "        type=\"string\",\n",
    "    ),\n",
    "    AttributeInfo(\n",
    "        name=\"year\",\n",
    "        description=\"The year the movie was released\",\n",
    "        type=\"integer\",\n",
    "    ),\n",
    "    AttributeInfo(\n",
    "        name=\"tagline\",\n",
    "        description=\"The tagline of the movie\",\n",
    "        type=\"string\",\n",
    "    ),\n",
    "]\n",
    "\n",
    "document_content_description = \"A collection of movies\"\n",
    "\n",
    "hana_translator = HanaTranslator()\n",
    "\n",
    "retriever = SelfQueryRetriever.from_llm(\n",
    "    llm,\n",
    "    lc_vs,\n",
    "    document_content_description,\n",
    "    metadata_field_info,\n",
    "    structured_query_translator=hana_translator\n",
    ")"
   ]
  },
  {
   "cell_type": "code",
   "execution_count": 29,
   "metadata": {},
   "outputs": [
    {
     "name": "stdout",
     "output_type": "stream",
     "text": [
      "--------------------------------------------------------------------------------\n",
      "{'title': 'Grand Theft Auto', 'year': 1977, 'tagline': 'Cars and automobiles all over'}\n"
     ]
    }
   ],
   "source": [
    "# let's run a query which combines vector search and a standard attribute filter\n",
    "query_prompt = \"Which movies about cars were released before 2010?\"\n",
    "# query_prompt = \"movie title contains 'auto theft'\"\n",
    "\n",
    "docs = retriever.invoke(input=query_prompt)\n",
    "retriever.structured_query_translator\n",
    "\n",
    "for doc in docs:\n",
    "    print(\"-\" * 80)\n",
    "    print(doc.metadata)"
   ]
  },
  {
   "cell_type": "code",
   "execution_count": 30,
   "metadata": {},
   "outputs": [
    {
     "name": "stdout",
     "output_type": "stream",
     "text": [
      "Structured query:  query='cars' filter=Comparison(comparator=<Comparator.LT: 'lt'>, attribute='year', value=2010) limit=None\n",
      "\n",
      "Translated for HANA vector store:  ('cars', {'filter': {'year': {'$lt': 2010}}})\n"
     ]
    }
   ],
   "source": [
    "from langchain.chains.query_constructor.base import (\n",
    "    StructuredQueryOutputParser,\n",
    "    get_query_constructor_prompt,\n",
    ")\n",
    "\n",
    "prompt = get_query_constructor_prompt(\n",
    "    document_content_description,\n",
    "    metadata_field_info,\n",
    ")\n",
    "output_parser = StructuredQueryOutputParser.from_components()\n",
    "query_constructor = prompt | llm | output_parser\n",
    "\n",
    "sq = query_constructor.invoke(input=query_prompt)\n",
    "\n",
    "print(\"Structured query: \", sq)\n",
    "\n",
    "print(\"\\nTranslated for HANA vector store: \", hana_translator.visit_structured_query(sq))"
   ]
  }
 ],
 "metadata": {
  "kernelspec": {
   "display_name": "LC_INTEGRATION",
   "language": "python",
   "name": "python3"
  },
  "language_info": {
   "codemirror_mode": {
    "name": "ipython",
    "version": 3
   },
   "file_extension": ".py",
   "mimetype": "text/x-python",
   "name": "python",
   "nbconvert_exporter": "python",
   "pygments_lexer": "ipython3",
   "version": "3.12.9"
  }
 },
 "nbformat": 4,
 "nbformat_minor": 2
}
